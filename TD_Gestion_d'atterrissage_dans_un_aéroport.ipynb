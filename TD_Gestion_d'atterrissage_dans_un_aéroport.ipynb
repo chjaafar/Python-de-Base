{
  "nbformat": 4,
  "nbformat_minor": 0,
  "metadata": {
    "colab": {
      "provenance": [],
      "collapsed_sections": [
        "BIcP4xEfsyFf"
      ]
    },
    "kernelspec": {
      "name": "python3",
      "display_name": "Python 3"
    }
  },
  "cells": [
    {
      "cell_type": "markdown",
      "metadata": {
        "id": "KBmzO7nXFOh8"
      },
      "source": [
        "<html> <img style=\"float:center; margin: 0px 0px 0px 0px;\" src=\"https://docs.google.com/uc? export=download&id=1AsKm6Gzjuvqp9RmXxjTHdbTr4eo7kHsp\" width=\"130\" align=\"left\"/> </html>\n",
        "<h6>Faculté des Sciences de Monastir </h6>\n",
        "<h6>Département des Sciences de l’Informatique </h6>\n",
        "<h6>Enseignant: Jaafar CHAAOURI </h6>\n"
      ]
    },
    {
      "cell_type": "markdown",
      "metadata": {
        "id": "zTU9-5L8LYFn"
      },
      "source": [
        "\n",
        "<center>\n",
        "<img src='https://docs.google.com/uc?export=download&id=1BmLEthy7KCNsnVFviFKX77zLmFhc47XZ' align='right'/>\n",
        "    \n",
        "\n",
        "\n",
        "<h1><center> <B> Problème : Gestion d'atterrissage dans un aéroport </B> </center></h1>"
      ]
    },
    {
      "cell_type": "markdown",
      "metadata": {
        "id": "GeUyKjEftOuj"
      },
      "source": [
        "Dans le cadre d'atterrisage d'avions, un aéroport souhaite réaliser une application permettant de définir l'ordre dans le lequel les avions doivent atterrir au fur et à mesure que ceux-ci arrivent aux bords de l'aéroport."
      ]
    },
    {
      "cell_type": "markdown",
      "metadata": {
        "id": "ntvSBD8xy-Ok"
      },
      "source": [
        "En effet, on distingue les contraintes d'atterrissage suivantes **(Mise par ordre de préiorité)**:\n",
        "- L'existance d'un incendie au bord de l'avion.\n",
        "- L'insuffissance de la quantité du carburant qui doit etre **au minimum 100 litres**.\n",
        "- L'existance d'un passager malade en cas d'urgence."
      ]
    },
    {
      "cell_type": "markdown",
      "metadata": {
        "id": "L9l4bWfo3NCu"
      },
      "source": [
        "En cas d'ordre de priorité identique, nous adoprons le principe **du premier venant est le premier servi**."
      ]
    },
    {
      "cell_type": "markdown",
      "metadata": {
        "id": "AmaMiw9G3eYF"
      },
      "source": [
        "La piste d'atterrissage est représentée par une liste d'avions. Chaque avion est représenté par un dictionnaire contenant les clés suivants:\n",
        "- '**id**': son identifiant de type **int**\n",
        "- '**ref**': sa réference de type **str**\n",
        "- '**carburant**': la quantité de carburant restante de type de **float**\n",
        "- **urgence** : un **booléen** indiquant si'il ya un passager en cas d'urgence\n",
        "- '**feu**' : un **booléen** indiquant l'existance d'un incendie."
      ]
    },
    {
      "cell_type": "markdown",
      "metadata": {
        "id": "TaeWcBDV4kMo"
      },
      "source": [
        "<u>Exemple d'avion :</u>\n",
        "\n",
        "\n",
        "```\n",
        "A1= {'id':1 , 'ref':'A380', 'carburant':200.9, 'feu': False, 'urgence': True}  \n",
        "```\n",
        "\n"
      ]
    },
    {
      "cell_type": "markdown",
      "metadata": {
        "id": "2B-PkHGS5L7R"
      },
      "source": [
        "Notons que la gestion de l'atterrissage peut etre éfectuée selon deux méthodes que nous traitons dans la suite :  "
      ]
    },
    {
      "cell_type": "markdown",
      "metadata": {
        "id": "kOrHkTDvsdUB"
      },
      "source": [
        "### **Partie 1 : Préliminaires**"
      ]
    },
    {
      "cell_type": "markdown",
      "metadata": {
        "id": "8e8nBrXK5jkr"
      },
      "source": [
        "Ipmlémenter les fonctions Python suivantes :\n"
      ]
    },
    {
      "cell_type": "markdown",
      "metadata": {
        "id": "zg7RJ62E5tsZ"
      },
      "source": [
        "1- **creerListeAvions()** : permettant de créer une liste d'avions vide"
      ]
    },
    {
      "cell_type": "markdown",
      "metadata": {
        "id": "FgRDqwkQ5t1N"
      },
      "source": [
        "2- **estVide(L)** : qui vérifie si la liste d'avion **L** est vide ou non"
      ]
    },
    {
      "cell_type": "markdown",
      "metadata": {
        "id": "p1Ahbx3w5uAw"
      },
      "source": [
        "3- **enfilerClassique(L,A)** permettant d'ajouter un avion à la fin de la liste **L**.  "
      ]
    },
    {
      "cell_type": "markdown",
      "metadata": {
        "id": "yR2Ni9_Q5uJW"
      },
      "source": [
        "4- **defilerClassique(L)** : permettant d'extraire et de retourner un avion de la tete (début) de la liste L."
      ]
    },
    {
      "cell_type": "markdown",
      "metadata": {
        "id": "eFSWf9Cjsx8O"
      },
      "source": [
        "### **Partie 2 : Première méthode**"
      ]
    },
    {
      "cell_type": "markdown",
      "metadata": {
        "id": "uMa3dP1g6xm5"
      },
      "source": [
        "Dans ce cas, l'enfilement (l'ajout) dans cette liste doit ranger les avions dans **un ordre quelconque** (en utilisant la méthode **enfilerClassique**). ce qui implique que lors du défilement(sortie), on doit parcourir la liste pour extraire l'avion prioritaire à atterrir."
      ]
    },
    {
      "cell_type": "markdown",
      "metadata": {
        "id": "AsSgaEN87vRA"
      },
      "source": [
        "1- Ecrire la fonction **rechercheCarburantMin(L)** qui retourne l'avion, ayant la quantité minimale du carburant, présente dans la lsite **L**."
      ]
    },
    {
      "cell_type": "markdown",
      "metadata": {
        "id": "qIXumfHx7wIf"
      },
      "source": [
        "2- Ecrire la fonction **rechercherAvionPrioritaire(L)** permettant de retourner la position de l'avion le plus prioritaire (en suivant **dans l'ordre** les contraintes de priorité déja citées)"
      ]
    },
    {
      "cell_type": "markdown",
      "metadata": {
        "id": "7RcZWckJ7wTy"
      },
      "source": [
        "3- En utilisant la fonction précédente, écrire la fonction **defilerParPriorite(L)** permettant de retourner l'avion la plus prioritaire après sa suppression de la liste d'avions."
      ]
    },
    {
      "cell_type": "markdown",
      "metadata": {
        "id": "E408wdp67weP"
      },
      "source": [
        "4- Ecrire la fonction **ordreAtterrissageMéthode1(L)** permettant d'afficher les réferences de tous les avions de la liste **L**, selon leur ordre d'atterrissage en appliquant la 1ère méthode"
      ]
    },
    {
      "cell_type": "markdown",
      "metadata": {
        "id": "FxdV_kJu-PmZ"
      },
      "source": [
        "- indications :\n",
        "    - Utiliser la fonction defilerParPriorite\n",
        "    - la liste d'avions etre vide à la fin de ce traitement."
      ]
    },
    {
      "cell_type": "markdown",
      "metadata": {
        "id": "BIcP4xEfsyFf"
      },
      "source": [
        "### **Partie 3 : Deuxième Méthode**"
      ]
    },
    {
      "cell_type": "markdown",
      "metadata": {
        "id": "wwM5MrC_-l-3"
      },
      "source": [
        "Supposons maintenant que l'enfilement (L'ajout) doit maintenir les avions par **order de priorité décroissante**. Ceci implique que le défilement (sortie) se fait en utilisant **defilerClassique**."
      ]
    },
    {
      "cell_type": "markdown",
      "metadata": {
        "id": "heyq04KG_R7m"
      },
      "source": [
        "1- Ecrire la fonction **enfilerParPriorite(L,A)** permettant d'ajouter un avion **A**, selon son ordre de priorité, dans la liste d'avions **L**."
      ]
    },
    {
      "cell_type": "markdown",
      "metadata": {
        "id": "D8WkKY-h_SHh"
      },
      "source": [
        "2- Ecrire une fonction **OrdreAtterrissageMethode2(L)** permettant d'afficher les références de tous les avions de la liste **L** selon leur ordre d'atterissage en aplliquant la 2ème méthode."
      ]
    },
    {
      "cell_type": "markdown",
      "metadata": {
        "id": "hxppra5h_SSh"
      },
      "source": [
        "    - Indications :\n",
        "        - Utiliser la fonction defilerClassique.\n",
        "        - La liste d'avions doit etre vide à la fin de ce traitement."
      ]
    }
  ]
}