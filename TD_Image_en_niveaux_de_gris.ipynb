{
  "nbformat": 4,
  "nbformat_minor": 0,
  "metadata": {
    "colab": {
      "provenance": [],
      "collapsed_sections": [
        "AYSZtG1Ow1qo",
        "z1CsRcwqKCRf",
        "Vvc8ADSOffrq",
        "hJCU4CjWjwz-",
        "mjJhgwzwmkU_",
        "bIa5E7p5jI7-",
        "G9Ywur-VTcpg",
        "rz5RrMNHXNWN",
        "AqJF9MhHeEvA",
        "AdQcnfP1gqMA"
      ]
    },
    "kernelspec": {
      "name": "python3",
      "display_name": "Python 3"
    }
  },
  "cells": [
    {
      "cell_type": "markdown",
      "metadata": {
        "id": "TmVsTltSNNSb"
      },
      "source": [
        "<html> <img style=\"float:center; margin: 0px 0px 0px 0px;\" src=\"https://docs.google.com/uc? export=download&id=1AsKm6Gzjuvqp9RmXxjTHdbTr4eo7kHsp\" width=\"130\" align=\"left\"/> </html>\n",
        "<h6>Faculté des Sciences de Monastir </h6>\n",
        "<h6>Département des Sciences de l’Informatique </h6>\n",
        "<h6>Enseignants: Jaafar CHAAOURI </h6>"
      ]
    },
    {
      "cell_type": "markdown",
      "metadata": {
        "id": "j3I18m2yNR4M"
      },
      "source": [
        "<figure>\n",
        "<center>\n",
        "<img src='https://docs.google.com/uc?export=download&id=1BmLEthy7KCNsnVFviFKX77zLmFhc47XZ' align='right'/>\n",
        "    \n",
        "</figure>\n",
        "\n",
        "<center> <H1>\n",
        "</figure>\n",
        "<h1><center> <B>Problème : Image en niveaux de gris   </center></h1>"
      ]
    },
    {
      "cell_type": "markdown",
      "metadata": {
        "id": "pnxpluGkKGHd"
      },
      "source": [
        "- Une image en niveaux de gris est une collection de pixels organisés en lignes et en colonnes.\n",
        "- Chaque pixel est défini par une valeur représentant un niveau de gris (ou encore ton) parmi 256 valeurs possibles entre le noir et le blanc (0 : noir, 255 : blanc).\n",
        "- Binariser une image consiste à la partitionner en deux parties : une partie sombre et une partie claire selon un seuil de niveau de gris.\n",
        "- Une région est une collection de pixels représentant une partie ou la totalité d’une image.\n",
        "```\n",
        "Par exemple, le tableau1 suivant représente une image en niveau de gris.\n",
        "Il est formé par 3 lignes et 5 colonnes (donc 3*5=15 pixels).\n",
        "Les cases hachurées forment une région.\n",
        "```\n",
        "\n"
      ]
    },
    {
      "cell_type": "markdown",
      "metadata": {
        "id": "PExZCjXmMj__"
      },
      "source": [
        "<figure>\n",
        "<center>\n",
        "<img src='https://docs.google.com/uc?export=download&id=1IaPOAUgD08jbkOMW05UFpWKpgfBPOiGy' align='right'/>\n",
        "    \n",
        "    \n",
        "<figcaption>\n",
        "\n",
        "</figcaption></center>\n",
        "</figure>\n",
        "<center> <H1>  </H1> </center><center> <H1> </center> </H1>"
      ]
    },
    {
      "cell_type": "markdown",
      "metadata": {
        "id": "P6Rofob2Huyr"
      },
      "source": [
        "**Dans ce qui suit nous considérons que :**\n",
        "- Chaque **pixel** est représenté par une liste contenant trois valeurs représentant respectivement :\n",
        "    - le ton,\n",
        "    - l’indice de ligne et\n",
        "    - l’indice de colonne du pixel en question.\n",
        "- Chaque **région** est représentée par un dictionnaire où :\n",
        "    - Chaque clé représente un ton de gris\n",
        "    - Chaque valeur représente la liste des coordonnées des pixels ayant ce ton de gris\n",
        "\n",
        "Exemple : le dictionnaire représentant la Région hachuré dans le tableau 1 est :\n",
        "```\n",
        "R={255 :[(1,1),(2,2)], 64 :[(1,3),(2,3)],0 :[(1,2)]}.\n",
        "```\n",
        "\n",
        "\n",
        "\n"
      ]
    },
    {
      "cell_type": "markdown",
      "metadata": {
        "id": "l_2G2ilqiFKt"
      },
      "source": [
        "**On vous demande d’écrire en python :**"
      ]
    },
    {
      "cell_type": "markdown",
      "metadata": {
        "id": "Vvc8ADSOffrq"
      },
      "source": [
        "## **1/**"
      ]
    },
    {
      "cell_type": "markdown",
      "metadata": {
        "id": "wlcdBkRVknm8"
      },
      "source": [
        "\n",
        "La fonction **len_ton(R,t)** qui accepte comme paramètres une région **R**(dictionnaire) et un ton **t**(entier), et qui permet de retourner le nombre de pixels dans **R** ayant la même valeur **t**.\n"
      ]
    },
    {
      "cell_type": "markdown",
      "metadata": {
        "id": "hJCU4CjWjwz-"
      },
      "source": [
        "## **2/**"
      ]
    },
    {
      "cell_type": "markdown",
      "metadata": {
        "id": "-XFBV4X7kvIE"
      },
      "source": [
        "La fonction **nbr_pixel(R)** qui permet de retourner le nombre de pixels dans la région **R**(dictionnaire) passée en paramètre."
      ]
    },
    {
      "cell_type": "markdown",
      "metadata": {
        "id": "mjJhgwzwmkU_"
      },
      "source": [
        "## **3/**"
      ]
    },
    {
      "cell_type": "markdown",
      "metadata": {
        "id": "tLF2X89qky4u"
      },
      "source": [
        "La fonction **nb_pixel_simillaire(R,Px)** qui accepte comme paramètres une région **R**(dictionnaire) et un pixel **Px**(list) et qui permet de retourner le nombre de pixels qui ont le même ton que Px.\n"
      ]
    },
    {
      "cell_type": "markdown",
      "metadata": {
        "id": "bIa5E7p5jI7-"
      },
      "source": [
        "## **4/**"
      ]
    },
    {
      "cell_type": "markdown",
      "metadata": {
        "id": "JHq5v_RDk4ag"
      },
      "source": [
        "La fonction **contains(R,Px)** qui permet de retourner True si Px existe dans la région R, False sinon.\n"
      ]
    },
    {
      "cell_type": "markdown",
      "metadata": {
        "id": "G9Ywur-VTcpg"
      },
      "source": [
        "## 5/"
      ]
    },
    {
      "cell_type": "markdown",
      "metadata": {
        "id": "Z3ud5W5Ek6Qj"
      },
      "source": [
        "La fonction **Ajout_Pixel(R,Px)** qui permet d’ajouter dans la région **R** le pixel Px s’il n’existe pas. Sinon, prévoir un message d’erreur.\n"
      ]
    },
    {
      "cell_type": "markdown",
      "metadata": {
        "id": "rz5RrMNHXNWN"
      },
      "source": [
        "## 6/"
      ]
    },
    {
      "cell_type": "markdown",
      "metadata": {
        "id": "l1HuDLmxk_bk"
      },
      "source": [
        "La fonction **Sup_Pixel(R,Px)** qui permet de supprimer de la région **R** le pixel **Px** s’il\n",
        "existe. Sinon, prévoir un message d’erreur.\n"
      ]
    },
    {
      "cell_type": "markdown",
      "metadata": {
        "id": "AqJF9MhHeEvA"
      },
      "source": [
        "## 7/"
      ]
    },
    {
      "cell_type": "markdown",
      "metadata": {
        "id": "hgtJZjJWlIfQ"
      },
      "source": [
        "La fonction **RegIntReg(R1,R2)** qui accepte comme paramètres deux régions R1 et R2 et\n",
        "qui permet de retourner la région (dictionnaire) intersection entre **R1** et **R2**.\n"
      ]
    },
    {
      "cell_type": "markdown",
      "metadata": {
        "id": "AdQcnfP1gqMA"
      },
      "source": [
        "## 8/"
      ]
    },
    {
      "cell_type": "markdown",
      "metadata": {
        "id": "gG9XXYFQlKSP"
      },
      "source": [
        "La fonction **Binariser_reg( R , t)** qui accepte comme paramètres une région **R** et un ton **t** et qui permet de retourner une nouvelle région à deux tons seulement 0 et 255.\n",
        "- Le ton 0 est associé aux pixels de R ayant un ton strictement inférieur à t et\n",
        "- Le ton 255 est associé aux autres pixels de R.\n",
        "```\n",
        "Exemple :\n",
        "R={255 :[(1,1),(2,2)], 188 :[(1,4)], 64 :[(1,3),(2,3)], 0 :[(1,2)]} ; t=130\n",
        "Binariser_reg (R,t)\n",
        "retourne {255 :[(1,1),(2,2),(1,4)] , 0 :[(1,3),(2,3),(1,2)]}\n",
        "```\n",
        "\n"
      ]
    },
    {
      "cell_type": "code",
      "metadata": {
        "id": "pQSjT7_7gRRv"
      },
      "source": [],
      "execution_count": null,
      "outputs": []
    }
  ]
}