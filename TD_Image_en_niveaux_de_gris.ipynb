{
  "nbformat": 4,
  "nbformat_minor": 0,
  "metadata": {
    "colab": {
      "provenance": [],
      "collapsed_sections": [
        "AYSZtG1Ow1qo",
        "z1CsRcwqKCRf",
        "Vvc8ADSOffrq",
        "hJCU4CjWjwz-",
        "mjJhgwzwmkU_",
        "bIa5E7p5jI7-",
        "G9Ywur-VTcpg",
        "rz5RrMNHXNWN",
        "AqJF9MhHeEvA",
        "AdQcnfP1gqMA"
      ]
    },
    "kernelspec": {
      "name": "python3",
      "display_name": "Python 3"
    }
  },
  "cells": [
    {
      "cell_type": "markdown",
      "metadata": {
        "id": "TmVsTltSNNSb"
      },
      "source": [
        "<html> <img style=\"float:center; margin: 0px 0px 0px 0px;\" src=\"https://docs.google.com/uc? export=download&id=1AsKm6Gzjuvqp9RmXxjTHdbTr4eo7kHsp\" width=\"130\" align=\"left\"/> </html>\n",
        "<h6>Faculté des Sciences de Monastir </h6>\n",
        "<h6>Département des Sciences de l’Informatique </h6>\n",
        "<h6>Enseignants: Jaafar CHAAOURI </h6>"
      ]
    },
    {
      "cell_type": "markdown",
      "metadata": {
        "id": "j3I18m2yNR4M"
      },
      "source": [
        "<figure>\n",
        "<center>\n",
        "<img src='https://docs.google.com/uc?export=download&id=1BmLEthy7KCNsnVFviFKX77zLmFhc47XZ' align='right'/>\n",
        "    \n",
        "</figure>\n",
        "\n",
        "<center> <H1>\n",
        "</figure>\n",
        "<h1><center> <B>Problème : Image en niveaux de gris   </center></h1>"
      ]
    },
    {
      "cell_type": "markdown",
      "metadata": {
        "id": "pnxpluGkKGHd"
      },
      "source": [
        "- Une image en niveaux de gris est une collection de pixels organisés en lignes et en colonnes.\n",
        "- Chaque pixel est défini par une valeur représentant un niveau de gris (ou encore ton) parmi 256 valeurs possibles entre le noir et le blanc (0 : noir, 255 : blanc).\n",
        "- Binariser une image consiste à la partitionner en deux parties : une partie sombre et une partie claire selon un seuil de niveau de gris.\n",
        "- Une région est une collection de pixels représentant une partie ou la totalité d’une image.\n",
        "```\n",
        "Par exemple, le tableau1 suivant représente une image en niveau de gris.\n",
        "Il est formé par 3 lignes et 5 colonnes (donc 3*5=15 pixels).\n",
        "Les cases hachurées forment une région.\n",
        "```\n",
        "\n"
      ]
    },
    {
      "cell_type": "markdown",
      "metadata": {
        "id": "PExZCjXmMj__"
      },
      "source": [
        "<figure>\n",
        "<center>\n",
        "<img src='https://docs.google.com/uc?export=download&id=1IaPOAUgD08jbkOMW05UFpWKpgfBPOiGy' align='right'/>\n",
        "    \n",
        "    \n",
        "<figcaption>\n",
        "\n",
        "</figcaption></center>\n",
        "</figure>\n",
        "<center> <H1>  </H1> </center><center> <H1> </center> </H1>"
      ]
    },
    {
      "cell_type": "markdown",
      "metadata": {
        "id": "P6Rofob2Huyr"
      },
      "source": [
        "**Dans ce qui suit nous considérons que :**\n",
        "- Chaque **pixel** est représenté par une liste contenant trois valeurs représentant respectivement :\n",
        "    - le ton,\n",
        "    - l’indice de ligne et\n",
        "    - l’indice de colonne du pixel en question.\n",
        "- Chaque **région** est représentée par un dictionnaire où :\n",
        "    - Chaque clé représente un ton de gris\n",
        "    - Chaque valeur représente la liste des coordonnées des pixels ayant ce ton de gris\n",
        "\n",
        "Exemple : le dictionnaire représentant la Région hachuré dans le tableau 1 est :\n",
        "```\n",
        "R={255 :[(1,1),(2,2)], 64 :[(1,3),(2,3)],0 :[(1,2)]}.\n",
        "```\n",
        "\n",
        "\n",
        "\n"
      ]
    },
    {
      "cell_type": "markdown",
      "metadata": {
        "id": "l_2G2ilqiFKt"
      },
      "source": [
        "**On vous demande d’écrire en python :**"
      ]
    },
    {
      "cell_type": "markdown",
      "metadata": {
        "id": "Vvc8ADSOffrq"
      },
      "source": [
        "## **1/**"
      ]
    },
    {
      "cell_type": "markdown",
      "metadata": {
        "id": "wlcdBkRVknm8"
      },
      "source": [
        "\n",
        "La fonction **len_ton(R,t)** qui accepte comme paramètres une région **R**(dictionnaire) et un ton **t**(entier), et qui permet de retourner le nombre de pixels dans **R** ayant la même valeur **t**.\n"
      ]
    },
    {
      "cell_type": "code",
      "source": [
        "def len_ton( R, t) :\n",
        "    nb =  0\n",
        "    if t in d :\n",
        "        return len(d[t])\n",
        "\n",
        "    else :\n",
        "        return 0"
      ],
      "metadata": {
        "id": "DfXGtpUbixzD"
      },
      "execution_count": null,
      "outputs": []
    },
    {
      "cell_type": "code",
      "metadata": {
        "id": "S0AQov7oOv-g"
      },
      "source": [
        "def len_ton(R, t) :\n",
        "    if  t in R :\n",
        "        return len(R[t])\n",
        "    else :\n",
        "        return 0"
      ],
      "execution_count": null,
      "outputs": []
    },
    {
      "cell_type": "code",
      "metadata": {
        "id": "g-cBVhiJPVfd"
      },
      "source": [
        "def len_ton(R, t ) :\n",
        "\n",
        "    return  len(R.get(t,[])\n"
      ],
      "execution_count": null,
      "outputs": []
    },
    {
      "cell_type": "code",
      "metadata": {
        "id": "L4TBwTOAQLJl"
      },
      "source": [
        "R={255 :[(1,1),(2,2)], 64 :[(1,3),(2,3)],0 :[(1,2)]}\n",
        "R.get(100, )\n"
      ],
      "execution_count": null,
      "outputs": []
    },
    {
      "cell_type": "markdown",
      "metadata": {
        "id": "hJCU4CjWjwz-"
      },
      "source": [
        "## **2/**"
      ]
    },
    {
      "cell_type": "markdown",
      "metadata": {
        "id": "-XFBV4X7kvIE"
      },
      "source": [
        "La fonction **nbr_pixel(R)** qui permet de retourner le nombre de pixels dans la région **R**(dictionnaire) passée en paramètre."
      ]
    },
    {
      "cell_type": "code",
      "metadata": {
        "id": "x_JQWowwRXG9"
      },
      "source": [
        "def nbr_pixel(R) :\n",
        "    s=0\n",
        "    for v  in R.values() :\n",
        "        s += len(v)\n",
        "    return s\n",
        "\n",
        "  # R={255 :[(1,1),(2,2)], 64 :[(1,3),(2,3)],0 :[(1,2)]}"
      ],
      "execution_count": null,
      "outputs": []
    },
    {
      "cell_type": "code",
      "metadata": {
        "id": "bvYD3HcVSFey"
      },
      "source": [
        "def nbr_pixel(R) :\n",
        "    s=0\n",
        "    for k  in R.keys() :\n",
        "        s+= len(R[k])\n",
        "    return s"
      ],
      "execution_count": null,
      "outputs": []
    },
    {
      "cell_type": "code",
      "metadata": {
        "id": "p3i51gr2SVv4"
      },
      "source": [
        "def nbr_pixel(R) :\n",
        "    return  sum ([len(v) for v in R.values()])"
      ],
      "execution_count": null,
      "outputs": []
    },
    {
      "cell_type": "markdown",
      "metadata": {
        "id": "mjJhgwzwmkU_"
      },
      "source": [
        "## **3/**"
      ]
    },
    {
      "cell_type": "markdown",
      "metadata": {
        "id": "tLF2X89qky4u"
      },
      "source": [
        "La fonction **nb_pixel_simillaire(R,Px)** qui accepte comme paramètres une région **R**(dictionnaire) et un pixel **Px**(list) et qui permet de retourner le nombre de pixels qui ont le même ton que Px.\n"
      ]
    },
    {
      "cell_type": "code",
      "metadata": {
        "id": "vlNxyXYLS9ZD"
      },
      "source": [
        "def nb_pixel_simillaire(R,Px):\n",
        "    # t,l,c = Px[0], Px[1], Px[2]\n",
        "    # t,l,c = Px\n",
        "    # return len_ton(R,t)\n",
        "    return len_ton(R,Px[0])\n"
      ],
      "execution_count": null,
      "outputs": []
    },
    {
      "cell_type": "markdown",
      "metadata": {
        "id": "bIa5E7p5jI7-"
      },
      "source": [
        "## **4/**"
      ]
    },
    {
      "cell_type": "markdown",
      "metadata": {
        "id": "JHq5v_RDk4ag"
      },
      "source": [
        "La fonction **contains(R,Px)** qui permet de retourner True si Px existe dans la région R, False sinon.\n"
      ]
    },
    {
      "cell_type": "code",
      "metadata": {
        "id": "Zoysn_5wT8V3"
      },
      "source": [
        "\n",
        "def contains(R,Px) :\n",
        "    t,l,c = Px\n",
        "    if t in R:\n",
        "         if  (l,c) in R[t] :\n",
        "             return True\n",
        "         else :\n",
        "             False\n",
        "    else :\n",
        "        return False"
      ],
      "execution_count": null,
      "outputs": []
    },
    {
      "cell_type": "code",
      "metadata": {
        "id": "DpekyYPPVvt7"
      },
      "source": [
        "# R={255 :[(1,1),(2,2)], 64 :[(1,3),(2,3)],0 :[(1,2)]}\n",
        "R[100]"
      ],
      "execution_count": null,
      "outputs": []
    },
    {
      "cell_type": "code",
      "metadata": {
        "id": "ovG4IIMpWCwr"
      },
      "source": [
        "def contains(R,Px) :\n",
        "    t,l,c = Px\n",
        "    return  (l,c)  in  R.get(t,[])"
      ],
      "execution_count": null,
      "outputs": []
    },
    {
      "cell_type": "markdown",
      "metadata": {
        "id": "G9Ywur-VTcpg"
      },
      "source": [
        "## 5/"
      ]
    },
    {
      "cell_type": "markdown",
      "metadata": {
        "id": "Z3ud5W5Ek6Qj"
      },
      "source": [
        "La fonction **Ajout_Pixel(R,Px)** qui permet d’ajouter dans la région **R** le pixel Px s’il n’existe pas. Sinon, prévoir un message d’erreur.\n"
      ]
    },
    {
      "cell_type": "code",
      "metadata": {
        "id": "SvGOCb6GW3vl"
      },
      "source": [
        "def Ajout_Pixel(R,Px):\n",
        "    t, l,c = Px\n",
        "    if t  in R :\n",
        "        if (l,c) in R[t] :\n",
        "            print(\"Erreur le pixel est déja présent\")\n",
        "        else :\n",
        "            R[t].append((l,c))\n",
        "    else :\n",
        "        R[t] = [(l,c)]\n"
      ],
      "execution_count": null,
      "outputs": []
    },
    {
      "cell_type": "code",
      "metadata": {
        "id": "QcNCfT1zXy7D"
      },
      "source": [
        "def Ajout_Pixel(R,Px) :\n",
        "    t, l,c = Px\n",
        "    if  contains(R,Px) == False :\n",
        "        if t in R :\n",
        "            R[t].append((l,c))\n",
        "        else :\n",
        "            R[t]=[(l,c)]\n",
        "    else :\n",
        "        print(\"Erreur le pixel est déja présent\")"
      ],
      "execution_count": null,
      "outputs": []
    },
    {
      "cell_type": "markdown",
      "metadata": {
        "id": "rz5RrMNHXNWN"
      },
      "source": [
        "## 6/"
      ]
    },
    {
      "cell_type": "markdown",
      "metadata": {
        "id": "l1HuDLmxk_bk"
      },
      "source": [
        "La fonction **Sup_Pixel(R,Px)** qui permet de supprimer de la région **R** le pixel **Px** s’il\n",
        "existe. Sinon, prévoir un message d’erreur.\n"
      ]
    },
    {
      "cell_type": "code",
      "metadata": {
        "id": "sJglrNaWY0f9"
      },
      "source": [
        "def Sup_Pixel(R,Px) :\n",
        "    if contains(R,Px) == True :\n",
        "        t,l,c= Px\n",
        "        # R={255 :[(1,1),(2,2)], 64 :[(1,3),(2,3)], 0 :[(1,2)], 100 : [] }\n",
        "        R[t].remove((l,c))\n",
        "        if len(R[t]) == 0 :\n",
        "            R.pop(t)\n",
        "    else :\n",
        "        print(\"le pixel n'est présent dans la région\")"
      ],
      "execution_count": null,
      "outputs": []
    },
    {
      "cell_type": "code",
      "metadata": {
        "id": "JN_oyQnXZg0S",
        "colab": {
          "base_uri": "https://localhost:8080/",
          "height": 35
        },
        "outputId": "ee72c605-5571-49aa-ceb8-9c560127f598"
      },
      "source": [
        "L=[1,2,3]\n",
        "indice = L.index(1)\n",
        "L.pop(indice)\n",
        "L"
      ],
      "execution_count": null,
      "outputs": [
        {
          "output_type": "execute_result",
          "data": {
            "text/plain": [
              "[2, 3]"
            ]
          },
          "metadata": {
            "tags": []
          },
          "execution_count": 22
        }
      ]
    },
    {
      "cell_type": "markdown",
      "metadata": {
        "id": "AqJF9MhHeEvA"
      },
      "source": [
        "## 7/"
      ]
    },
    {
      "cell_type": "markdown",
      "metadata": {
        "id": "hgtJZjJWlIfQ"
      },
      "source": [
        "La fonction **RegIntReg(R1,R2)** qui accepte comme paramètres deux régions R1 et R2 et\n",
        "qui permet de retourner la région (dictionnaire) intersection entre **R1** et **R2**.\n"
      ]
    },
    {
      "cell_type": "code",
      "metadata": {
        "id": "9OBgX7a3b47z"
      },
      "source": [
        "# R1 ={255 :[(1,1),(4,2)], 64 :[(1,3),(2,3)], 0 :[(1,2)] }\n",
        "# R2 ={255 :[(1,1),(2,2)], 164 :[(1,3),(2,3)], 5 :[(1,2)] }\n",
        "def RegIntReg(R1, R2 ) :\n",
        "    # result = dict()\n",
        "    result={}\n",
        "    E1 = set(R1.keys())\n",
        "    E2 = set(R2.keys())\n",
        "    for k  in E1 & E2 :\n",
        "        result[k] = list (set(R1[k])  & set (R2[k]))\n",
        "    return result"
      ],
      "execution_count": null,
      "outputs": []
    },
    {
      "cell_type": "code",
      "metadata": {
        "id": "y4UoWrWdeVPK",
        "colab": {
          "base_uri": "https://localhost:8080/",
          "height": 35
        },
        "outputId": "b3240b1e-7203-4084-cb40-39dc64d27af6"
      },
      "source": [
        "E={1,2,3}\n",
        "L=list(E)\n",
        "L"
      ],
      "execution_count": null,
      "outputs": [
        {
          "output_type": "execute_result",
          "data": {
            "text/plain": [
              "[1, 2, 3]"
            ]
          },
          "metadata": {
            "tags": []
          },
          "execution_count": 23
        }
      ]
    },
    {
      "cell_type": "markdown",
      "metadata": {
        "id": "AdQcnfP1gqMA"
      },
      "source": [
        "## 8/"
      ]
    },
    {
      "cell_type": "markdown",
      "metadata": {
        "id": "gG9XXYFQlKSP"
      },
      "source": [
        "La fonction **Binariser_reg( R , t)** qui accepte comme paramètres une région **R** et un ton **t** et qui permet de retourner une nouvelle région à deux tons seulement 0 et 255.\n",
        "- Le ton 0 est associé aux pixels de R ayant un ton strictement inférieur à t et\n",
        "- Le ton 255 est associé aux autres pixels de R.\n",
        "```\n",
        "Exemple :\n",
        "R={255 :[(1,1),(2,2)], 188 :[(1,4)], 64 :[(1,3),(2,3)], 0 :[(1,2)]} ; t=130\n",
        "Binariser_reg (R,t)\n",
        "retourne {255 :[(1,1),(2,2),(1,4)] , 0 :[(1,3),(2,3),(1,2)]}\n",
        "```\n",
        "\n"
      ]
    },
    {
      "cell_type": "code",
      "metadata": {
        "id": "eqvss_yitgn_"
      },
      "source": [
        "# R = {255:[(1,1), (2,2)], 188: [(1,4)], 64:[(1,3),(2,3)], 0: [(1,2)]}    # tseuil = 130\n",
        "def Binariser_reg(R, t) :\n",
        "    result={0:[], 255:[]}\n",
        "    for ton, lpx in R.items() :\n",
        "        if ton < t :\n",
        "            result[0].extend(lpx)\n",
        "        else :\n",
        "            result[255].extend(lpx)\n",
        "    return result"
      ],
      "execution_count": null,
      "outputs": []
    },
    {
      "cell_type": "code",
      "metadata": {
        "id": "VJPi8PGXgGbF",
        "colab": {
          "base_uri": "https://localhost:8080/",
          "height": 35
        },
        "outputId": "b385a154-8a9b-4b7f-b72a-71b621aada8b"
      },
      "source": [
        "L1 =[1,2,3]\n",
        "L2 =[4,5,6]\n",
        "L1.append(9)\n",
        "L1"
      ],
      "execution_count": null,
      "outputs": [
        {
          "output_type": "execute_result",
          "data": {
            "text/plain": [
              "[1, 2, 3, 9]"
            ]
          },
          "metadata": {
            "tags": []
          },
          "execution_count": 24
        }
      ]
    },
    {
      "cell_type": "code",
      "metadata": {
        "id": "pQSjT7_7gRRv"
      },
      "source": [],
      "execution_count": null,
      "outputs": []
    }
  ]
}