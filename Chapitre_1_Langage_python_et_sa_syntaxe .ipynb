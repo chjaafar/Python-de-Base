{
  "cells": [
    {
      "cell_type": "markdown",
      "metadata": {
        "id": "5C3-ZAGCITE1"
      },
      "source": [
        "<html> <img style=\"float:center; margin: 0px 0px 0px 0px;\" src=\"https://docs.google.com/uc? export=download&id=1AsKm6Gzjuvqp9RmXxjTHdbTr4eo7kHsp\" width=\"170\" align=\"left\"/> </html>\n",
        "<h6>Faculté des Sciences de Monastir </h6>\n",
        "<h6>Département des Sciences de l’Informatique </h6>\n",
        "\n",
        "<h6>Enseignant: Jaafar CHAAOURI </h6>"
      ]
    },
    {
      "cell_type": "markdown",
      "metadata": {
        "id": "O0nxuFbnR8ZK"
      },
      "source": [
        "\n",
        "<center>\n",
        "<img src='https://docs.google.com/uc?export=download&id=1BmLEthy7KCNsnVFviFKX77zLmFhc47XZ' align='right'width=\"420\"/>\n",
        "    \n",
        "<figcaption>\n",
        "\n",
        "</figcaption></center>\n",
        "</figure>\n",
        "<center> <H1><b> Programmation Python<b> </H1> </center>\n",
        "\n",
        "\n"
      ]
    },
    {
      "cell_type": "markdown",
      "metadata": {
        "id": "0dp8Lt-_kGW9"
      },
      "source": [
        "**Chapitre 1 : Langage python et sa syntaxe**"
      ]
    },
    {
      "cell_type": "markdown",
      "metadata": {
        "id": "o8P_TLB5l70N"
      },
      "source": [
        "1. Introduction\n",
        "2. Opérateurs  \n",
        "    - Arithmétiques\n",
        "    - Logiques\n",
        "    - Comparaison\n",
        "    - Assignation augmentée\n",
        "3.   Types de base\n",
        "    - Le type None\n",
        "    - Les booléens (bool)\n",
        "    - Les entiers (integer ou int),\n",
        "    - Les réels (float)\n",
        "    - Les nombres complexes (complex)\n",
        "\n",
        "4.   Structures de contrôle\n",
        "    - La mise en page comme syntaxe\n",
        "    - tests conditionels : ``if/elif/else``\n",
        "    - Choix multiple : ``Match case ``\n",
        "    - boucles\n",
        "        * ``for elt in liste``\n",
        "        * ``for idx in range(len(liste))``\n",
        "        * ``while``\n",
        "        * ``break``\n",
        "\t    * ``continue``\n",
        "5. Exercices\n",
        "\n",
        "\n",
        "\n",
        "\n",
        "\n"
      ]
    },
    {
      "cell_type": "markdown",
      "metadata": {
        "id": "SREh7tjgB3k5"
      },
      "source": [
        "\n",
        "\n",
        "---\n",
        "\n"
      ]
    },
    {
      "cell_type": "markdown",
      "metadata": {
        "id": "bZBppJJUlALG"
      },
      "source": [
        "# **Chapitre 1 : Langage python et sa syntaxe**"
      ]
    },
    {
      "cell_type": "markdown",
      "metadata": {
        "id": "PTWi-NImuBAL"
      },
      "source": [
        "## **1.1. Introduction**"
      ]
    },
    {
      "cell_type": "markdown",
      "metadata": {
        "id": "NIKhUOd5CNE2"
      },
      "source": [
        "- Le langage de programmation Python a été créé en 1989 par Guido van Rossum.\n",
        "- La première version publique de ce langage a été publiée en 1991.\n",
        "- La dernière version de Python est la version 3. Plus précisément, la version 3.10 a été publiée en octobre 2021.\n",
        "- La Python Software Foundation est l’association qui organise le développement de Python et anime la communauté de développeurs et d’utilisateurs.\n",
        "\n",
        "Python est un langage de programmation :\n",
        "- Libre\n",
        "- Multi-plateformes\n",
        "- Multi-paradigmes\n",
        "- Distribué avec une riche bibliothèque standard\n",
        "\n"
      ]
    },
    {
      "cell_type": "markdown",
      "metadata": {
        "id": "qBZ4rs2jAici"
      },
      "source": [
        "\n",
        "### Variables et assignation\n",
        "\n",
        "- Pour accéder à une donnée, on lui donne un nom que l'on appelle variable.\n",
        "Cette opération s'appelle *assignation* (ou *affectation*) et se fait avec l'opérateur `=`, signifie qu'on affecte la `donnee_x` à la `variable_x`.\n",
        "```python\n",
        "variable_x = donnee_x\n",
        "Exemple:  x=0\n",
        "```\n",
        "\n",
        "\n",
        "- Les variables sont utilisées sans  être déclarés et leurs types dépendent de leurs contenus.\n",
        "- Une variable peut changer de type sans qu’il ait d’erreurs ==>  Typage dynamique\n",
        "\n",
        "\n"
      ]
    },
    {
      "cell_type": "markdown",
      "metadata": {
        "id": "WgAQ1RX_CAy-"
      },
      "source": [
        "\n",
        "Définir trois variables nommées : `age`, `prenom` et `taille`."
      ]
    },
    {
      "cell_type": "code",
      "execution_count": null,
      "metadata": {
        "id": "ZCLazndVCNE4"
      },
      "outputs": [],
      "source": [
        "# Par exemple: donnons la valeur 23 à la variable 'age'\n",
        "age = 23  # age = int(23)\n",
        "# Les variables peuvent se référer à divers types de données: des chaînes de caractères...\n",
        "prenom = 'Ahmed'\n",
        "# Des nombres réels, etc...\n",
        "taille = 1.83"
      ]
    },
    {
      "cell_type": "markdown",
      "metadata": {
        "id": "xeGfzmbPCNE8"
      },
      "source": [
        "### Le mécanisme d'assignation :\n",
        "\n",
        "Lorsqu'on fait l'assignation `x = donnee_x`, Python :\n",
        "\n",
        "1. crée et mémorise le nom de variable `x`\n",
        "2. attribue un type à cette variable en fonction de la donnée affectée.\n",
        "3. crée et mémorise une valeur particulière  `donnee_x`\n",
        "4. établit une référence entre le nom de la variable `x` et l'emplacement mémoire de `donnee_x`. Cette référence est mémorisée dans l'espace de nom."
      ]
    },
    {
      "cell_type": "markdown",
      "metadata": {
        "id": "cM_QVWP7CNE9"
      },
      "source": [
        "### Accéder à la valeur d'une variable\n",
        "\n",
        "Pour se servir de la donnée référencée par une variable, il suffit d'utiliser le nom cette variable.\n",
        "\n",
        "La fonction [``print()``](https://docs.python.org/3/library/functions.html#print) affiche à l'écran ce qui lui est passé en paramètre. On peut lui donner plusieurs paramètres séparés par des virgules et ``print`` les affichera tous, séparés par un espace."
      ]
    },
    {
      "cell_type": "code",
      "execution_count": null,
      "metadata": {
        "colab": {
          "base_uri": "https://localhost:8080/",
          "height": 50
        },
        "id": "P_-F2ao8CNE_",
        "outputId": "a0f251ee-95e1-46c7-c2e3-da5e4986c837"
      },
      "outputs": [
        {
          "name": "stdout",
          "output_type": "stream",
          "text": [
            "Chahine 23 1.83\n",
            "Chahine a 23 ans, et mesure 1.83 mètre\n"
          ]
        }
      ],
      "source": [
        "print('Chahine', 23, 1.83)\n",
        "print(prenom, 'a', age, 'ans, et mesure', taille, 'mètre')"
      ]
    },
    {
      "cell_type": "markdown",
      "metadata": {
        "id": "ziIrdN7VCNFB"
      },
      "source": [
        "Les variables peuvent changer et ainsi se référer à une autre donnée."
      ]
    },
    {
      "cell_type": "code",
      "execution_count": null,
      "metadata": {
        "id": "-Eqc-lT2CNFD"
      },
      "outputs": [],
      "source": [
        "age = 23\n",
        "print(age)\n",
        "age = 24\n",
        "print(age)"
      ]
    },
    {
      "cell_type": "markdown",
      "metadata": {
        "id": "4bpgB2TpCNFH"
      },
      "source": [
        "### L'assignation du point de vue de l'objet\n",
        "\n",
        "En python, toute donnée est vue comme un objet.\n",
        "Assigner une valeur à une variable revient à nommer un objet, c'est-à-dire référencer cet objet par un nom.\n",
        "\n",
        "Exemple avec l'entier `7` :\n",
        "\n",
        "- pour Python, `7` est l'objet de type entier (`int`) dont la donnée est `7`\n",
        "- lorsqu'on appelle la donnée `7` dans un programme, Python créé l'objet correspondant et lui affecte un identifiant unique dans l'espace de nom courant.\n",
        "- cet identifiant est renvoyé par la fonction intrinsèque [`id()`](https://docs.python.org/3/library/functions.html#id) :"
      ]
    },
    {
      "cell_type": "code",
      "execution_count": null,
      "metadata": {
        "colab": {
          "base_uri": "https://localhost:8080/"
        },
        "id": "REAkPpOaCNFI",
        "outputId": "9b023521-3a09-4117-a283-0faa3336f544"
      },
      "outputs": [
        {
          "name": "stdout",
          "output_type": "stream",
          "text": [
            "94637321349824\n"
          ]
        }
      ],
      "source": [
        "print(id(7))"
      ]
    },
    {
      "cell_type": "markdown",
      "metadata": {
        "id": "0Z3aTg07CNFM"
      },
      "source": [
        "```python\n",
        "x = 7\n",
        "```\n",
        "signifie qu'on nomme l'objet `7` avec la variable `x`.\n",
        "Autrement dit, `x` devient une référence vers cet objet."
      ]
    },
    {
      "cell_type": "code",
      "execution_count": null,
      "metadata": {
        "colab": {
          "base_uri": "https://localhost:8080/"
        },
        "id": "0QAsFEtQCNFM",
        "outputId": "0b81eeef-86f4-4edc-f746-4b113351be43"
      },
      "outputs": [
        {
          "name": "stdout",
          "output_type": "stream",
          "text": [
            "94637321349824\n",
            "94637321349824\n",
            "94637321349824\n"
          ]
        }
      ],
      "source": [
        "print(id(7))\n",
        "x = 7\n",
        "print(id(x))\n",
        "y = x\n",
        "print(id(y))  # y référence le même objet que x"
      ]
    },
    {
      "cell_type": "markdown",
      "metadata": {
        "id": "hx8bpBP9CNFP"
      },
      "source": [
        "### Le type\n",
        "\n",
        "- Les variables n'ont pas de type propre : c'est la donnée qui est typée, pas la variable qui la référence.\n",
        "- Une variable peut donc faire référence à une donnée d'un autre type après une nouvelle assignation.\n",
        "\n",
        "La fonction [`type()`](https://docs.python.org/3/library/functions.html#type) retourne le type effectif de la donnée passée en paramètre."
      ]
    },
    {
      "cell_type": "code",
      "execution_count": null,
      "metadata": {
        "colab": {
          "base_uri": "https://localhost:8080/"
        },
        "id": "_3aROdVrCNFR",
        "outputId": "f2acb754-9145-4183-b25b-1a44d02fd951"
      },
      "outputs": [
        {
          "name": "stdout",
          "output_type": "stream",
          "text": [
            "<class 'int'>\n"
          ]
        }
      ],
      "source": [
        "# Des nombres\n",
        "age = 23\n",
        "print(type(age))"
      ]
    },
    {
      "cell_type": "code",
      "execution_count": null,
      "metadata": {
        "colab": {
          "base_uri": "https://localhost:8080/"
        },
        "id": "i-MSZGjqCNFY",
        "outputId": "715df2ac-5326-4db6-9eed-d7e26f1d689d"
      },
      "outputs": [
        {
          "name": "stdout",
          "output_type": "stream",
          "text": [
            "<class 'float'>\n"
          ]
        }
      ],
      "source": [
        "# Sans limites...\n",
        "age = 24.5\n",
        "print(type(age))"
      ]
    },
    {
      "cell_type": "code",
      "execution_count": null,
      "metadata": {
        "colab": {
          "base_uri": "https://localhost:8080/",
          "height": 34
        },
        "id": "tbvAJqCKCNFV",
        "outputId": "11cf9569-4b98-45bb-9ea9-822c14592c40"
      },
      "outputs": [
        {
          "name": "stdout",
          "output_type": "stream",
          "text": [
            "<class 'str'>\n"
          ]
        }
      ],
      "source": [
        "# Les variables peuvent aussi changer de type : chaîne de caractères\n",
        "age = 'vingt quatre ans'\n",
        "print(type(age))"
      ]
    },
    {
      "cell_type": "code",
      "execution_count": null,
      "metadata": {
        "colab": {
          "base_uri": "https://localhost:8080/"
        },
        "id": "ms_DtoAbCNFb",
        "outputId": "82164291-0f16-4925-fda4-498cf6d77332"
      },
      "outputs": [
        {
          "name": "stdout",
          "output_type": "stream",
          "text": [
            "<class 'str'>\n"
          ]
        }
      ],
      "source": [
        "# Attention aux pièges...\n",
        "age = '25'\n",
        "print(type(age))"
      ]
    },
    {
      "cell_type": "markdown",
      "metadata": {
        "id": "uMKZPVs3CNFe"
      },
      "source": [
        "Une variable peut être initialisée avec des valeurs constantes, comme vu précédement, mais aussi à partir d'autres variables ou des valeurs de retour de fonctions, etc.\n",
        "\n"
      ]
    },
    {
      "cell_type": "code",
      "execution_count": null,
      "metadata": {
        "colab": {
          "base_uri": "https://localhost:8080/"
        },
        "id": "4udi2T64CNFf",
        "outputId": "8e038314-fdd8-4e07-d17e-6272f175e93e"
      },
      "outputs": [
        {
          "name": "stdout",
          "output_type": "stream",
          "text": [
            "1 1 2\n"
          ]
        }
      ],
      "source": [
        "a = 1\n",
        "b = a\n",
        "c = a * 2\n",
        "print(a, b, c)\n"
      ]
    },
    {
      "cell_type": "markdown",
      "metadata": {
        "id": "igi0oAAgCNFs"
      },
      "source": [
        "Si on veut faire disparaître une variable, on peut utiliser la fonction [`del()`](https://docs.python.org/3/reference/simple_stmts.html#the-del-statement)."
      ]
    },
    {
      "cell_type": "code",
      "execution_count": null,
      "metadata": {
        "id": "exkkmq3WCNFx"
      },
      "outputs": [],
      "source": [
        "# Cette cellule génère une erreur\n",
        "a = 2\n",
        "print(a)\n",
        "del(a)\n",
        "print(a) # Erreur 'a' is not defined car la variable a été suprimée"
      ]
    },
    {
      "cell_type": "markdown",
      "metadata": {
        "id": "1cmss_XrCNF1"
      },
      "source": [
        "**Note :** [``del``](https://docs.python.org/3/reference/simple_stmts.html#the-del-statement) est aussi utilisé pour enlever des éléments dans des conteneurs modifiables (listes, dictionnaires). Nous aborderons ce sujet plus tard."
      ]
    },
    {
      "cell_type": "markdown",
      "metadata": {
        "id": "khpvW9fhuG4X"
      },
      "source": [
        "## **1.2. Opérateurs**"
      ]
    },
    {
      "cell_type": "markdown",
      "metadata": {
        "id": "kmRHCAqPCget"
      },
      "source": [
        "\n",
        "\n",
        "### Arithmétiques\n"
      ]
    },
    {
      "cell_type": "markdown",
      "metadata": {
        "id": "AuT1XveBCggM"
      },
      "source": [
        "- Les opérateurs arithmétiques ont en python des priorités classiques.\n",
        "\n",
        "- Utilisez des parenthèses quand cela aide à la lisibilité et à la clarté."
      ]
    },
    {
      "cell_type": "code",
      "execution_count": null,
      "metadata": {
        "id": "NeUKAwgISyqe"
      },
      "outputs": [],
      "source": [
        "# Parenthèses ()\n",
        "x+2**3\n",
        "(x+2)**3\n",
        "# Puissance **\n",
        "1j**2  # -1+0j\n",
        "# division flottante\n",
        "4/2   #2.0 (float)\n",
        "# division entière\n",
        "4//2  #2 (int)\n",
        "# modulo\n",
        "4%2  # 0"
      ]
    },
    {
      "cell_type": "markdown",
      "metadata": {
        "id": "qHz_BBnOmC5K"
      },
      "source": [
        " <img style=\"float:center; margin: 0px 0px 0px 0px;\" src=\"https://docs.google.com/uc? export=download&id=1vmeaG74wRawbE5OXR1tbm4YJqjsyuhSx\" width=\"630\" align=\"left\"/>\n"
      ]
    },
    {
      "cell_type": "markdown",
      "metadata": {
        "id": "JT2fxg6cCgev"
      },
      "source": [
        "#### Particularités de la division :"
      ]
    },
    {
      "cell_type": "code",
      "execution_count": null,
      "metadata": {
        "colab": {
          "base_uri": "https://localhost:8080/"
        },
        "id": "Z83peIc1Cgew",
        "outputId": "b0a52d31-414e-426b-e966-055a5f938a0f"
      },
      "outputs": [
        {
          "name": "stdout",
          "output_type": "stream",
          "text": [
            "5.333333333333333\n",
            "5\n",
            "1\n"
          ]
        }
      ],
      "source": [
        "# Avec des nombres entiers\n",
        "print(16 / 3)  # Quotient de la division euclidienne (produit un réel)\n",
        "print(16 // 3) # Quotient de la division euclidienne (produit un entier)\n",
        "print(16 % 3)  # Reste de la division euclidienne (produit un entier)"
      ]
    },
    {
      "cell_type": "markdown",
      "metadata": {
        "id": "r2s8M7VFCgez"
      },
      "source": [
        "#### Puissance :"
      ]
    },
    {
      "cell_type": "code",
      "execution_count": null,
      "metadata": {
        "colab": {
          "base_uri": "https://localhost:8080/"
        },
        "id": "uXd3sCplCge1",
        "outputId": "42953b2a-49cb-4ee2-ff85-3a8a487de1ab"
      },
      "outputs": [
        {
          "name": "stdout",
          "output_type": "stream",
          "text": [
            "1024\n",
            "1024.0\n"
          ]
        }
      ],
      "source": [
        "print(2 ** 10)\n",
        "# On peut aussi utiliser la fonction pow() du module math, mais celle-ci renvoie un réel...\n",
        "import math\n",
        "print(math.pow(2, 10))"
      ]
    },
    {
      "cell_type": "markdown",
      "metadata": {
        "id": "8Vez5MyDCge4"
      },
      "source": [
        "### Logiques\n",
        "\n",
        "```python\n",
        "and, or, not\n",
        "```\n",
        "\n",
        "retournent une valeur booléenne.\n"
      ]
    },
    {
      "cell_type": "code",
      "execution_count": null,
      "metadata": {
        "colab": {
          "base_uri": "https://localhost:8080/",
          "height": 84
        },
        "id": "ZGpqTQxrCge5",
        "outputId": "b602725a-f03b-427c-fedf-3a60d22b2a95"
      },
      "outputs": [
        {
          "name": "stdout",
          "output_type": "stream",
          "text": [
            "True\n",
            "False\n",
            "False\n",
            "True\n"
          ]
        }
      ],
      "source": [
        "print(True or False)\n",
        "print(True and False)\n",
        "print(not True)\n",
        "print(not False)\n"
      ]
    },
    {
      "cell_type": "markdown",
      "metadata": {
        "id": "NiyPj6DfCgfG"
      },
      "source": [
        "### Comparaison\n",
        "\n",
        "```python\n",
        "==, is, !=, is not, >, >=, <, <=\n",
        "```\n",
        "L'évaluation de ces opérateurs retourne une valeur booléenne."
      ]
    },
    {
      "cell_type": "code",
      "execution_count": null,
      "metadata": {
        "colab": {
          "base_uri": "https://localhost:8080/",
          "height": 84
        },
        "id": "SvzAnxwECgfH",
        "outputId": "27e896b3-f8d6-49f2-9e6f-e2d33f9e9f22"
      },
      "outputs": [
        {
          "name": "stdout",
          "output_type": "stream",
          "text": [
            "True\n",
            "False\n",
            "True\n",
            "True\n"
          ]
        }
      ],
      "source": [
        "print(2 == 2)\n",
        "print(2 != 2)\n",
        "print(2 == 2.0)\n",
        "print(type(2) is int)"
      ]
    },
    {
      "cell_type": "markdown",
      "metadata": {
        "id": "CqecTqKYCgfM"
      },
      "source": [
        "On peut utiliser ces opérateurs avec des variables et des appels à des fonctions."
      ]
    },
    {
      "cell_type": "code",
      "execution_count": null,
      "metadata": {
        "id": "f74XwUItCgfO"
      },
      "outputs": [],
      "source": [
        "x = 3\n",
        "print(1 > x)\n",
        "y = [0, 1, 42, 0]\n",
        "print(x <= max(y))\n",
        "print(x <= min(y))"
      ]
    },
    {
      "cell_type": "markdown",
      "metadata": {
        "id": "jbtZf8DWCgfR"
      },
      "source": [
        "On peut chaîner ces opérateurs :"
      ]
    },
    {
      "cell_type": "code",
      "execution_count": null,
      "metadata": {
        "colab": {
          "base_uri": "https://localhost:8080/",
          "height": 34
        },
        "id": "xevpaO1fCgfT",
        "outputId": "1087ce59-f6cf-42c5-98f8-42ae55709be0"
      },
      "outputs": [
        {
          "name": "stdout",
          "output_type": "stream",
          "text": [
            "True\n"
          ]
        }
      ],
      "source": [
        "x = 3\n",
        "print(2 < x <= 9) # équivalent à 2 < x and x <= 9"
      ]
    },
    {
      "cell_type": "markdown",
      "metadata": {
        "id": "bjXIUuzoCgfW"
      },
      "source": [
        "Attention : comparer des types non numériques peut avoir des résultats surprenants."
      ]
    },
    {
      "cell_type": "code",
      "execution_count": null,
      "metadata": {
        "colab": {
          "base_uri": "https://localhost:8080/"
        },
        "id": "i3Sa7YuICgfY",
        "outputId": "79980680-bdca-4068-b43c-ce2fddde7393"
      },
      "outputs": [
        {
          "name": "stdout",
          "output_type": "stream",
          "text": [
            "True\n"
          ]
        }
      ],
      "source": [
        "# Chaînes de caractères\n",
        "print(\"aaa\" < \"abc\")"
      ]
    },
    {
      "cell_type": "markdown",
      "metadata": {
        "id": "Uhazr8QVCgfj"
      },
      "source": [
        "Attention, l'égalité de valeur n'implique pas forcément que l'identité des objets comparés est la même."
      ]
    },
    {
      "cell_type": "code",
      "execution_count": null,
      "metadata": {
        "colab": {
          "base_uri": "https://localhost:8080/",
          "height": 85
        },
        "id": "cQegzBHkCgfl",
        "outputId": "6b4ec809-fc03-42f5-8c2d-13deb14721d9"
      },
      "outputs": [
        {
          "name": "stdout",
          "output_type": "stream",
          "text": [
            "True\n",
            "False\n",
            "id(a) = 140450830773320\n",
            "id(b) = 140450839697992\n"
          ]
        }
      ],
      "source": [
        "a = []  # a est une liste vide\n",
        "b = []  # b est une AUTRE liste vide\n",
        "\n",
        "print(a == b) # test de valeur\n",
        "print(a is b) # test d'identité\n",
        "print('id(a) =', id(a))\n",
        "print('id(b) =', id(b))"
      ]
    },
    {
      "cell_type": "markdown",
      "metadata": {
        "id": "Zex_zRzTCgfo"
      },
      "source": [
        "Mais, comme vu précédemment, des variables différentes peuvent référencer le même objet."
      ]
    },
    {
      "cell_type": "code",
      "execution_count": null,
      "metadata": {
        "colab": {
          "base_uri": "https://localhost:8080/",
          "height": 51
        },
        "id": "0IUx-lW9Cgfq",
        "outputId": "e8b5a260-748d-4e41-80b5-ccaef5fcebb6"
      },
      "outputs": [
        {
          "name": "stdout",
          "output_type": "stream",
          "text": [
            "True\n",
            "True\n"
          ]
        }
      ],
      "source": [
        "c = a\n",
        "print(a == c) # test de valeur\n",
        "print(a is c) # test d'identité"
      ]
    },
    {
      "cell_type": "markdown",
      "metadata": {
        "id": "hFQrU6mlCgf6"
      },
      "source": [
        "### Assignation augmentée\n",
        "\n",
        "\n",
        "```python\n",
        "+=, -=, /=\n",
        "```"
      ]
    },
    {
      "cell_type": "code",
      "execution_count": null,
      "metadata": {
        "colab": {
          "base_uri": "https://localhost:8080/"
        },
        "id": "KkPLmE4FCgf8",
        "outputId": "891287c4-8eb0-4b72-c89c-e1f3551fc0af"
      },
      "outputs": [
        {
          "name": "stdout",
          "output_type": "stream",
          "text": [
            "5\n",
            "2\n",
            "8\n",
            "0\n"
          ]
        }
      ],
      "source": [
        "a = 4\n",
        "a += 1  #   a = a + 1\n",
        "print(a)\n",
        "a //= 2  #  a= a//2\n",
        "print(a)\n",
        "a **= 3  # a= a**2\n",
        "print(a)\n",
        "a %= 2   # a= a%2\n",
        "print(a)"
      ]
    },
    {
      "cell_type": "markdown",
      "metadata": {
        "id": "xtzLPvjtCNF8"
      },
      "source": [
        "## **1.3. Types de base**\n",
        "\n"
      ]
    },
    {
      "cell_type": "markdown",
      "metadata": {
        "id": "ijlCUA1FukE0"
      },
      "source": [
        "Les classes (types) simples sont :\n",
        "- Le type None\n",
        "- Les booléens (bool)  \n",
        "- Les entiers (integer ou int),  \n",
        "- Les réels (float)\n",
        "- Les nombres complexes (complex)\n",
        "\n",
        "\n",
        "\n",
        "### `None`\n",
        "\n",
        "- Il existe dans python un type de données particulier : `None`.\n",
        "- `None` représente un objet sans valeur. On s'en sert comme valeur de retour en cas d'erreur ou pour représenter un cas particulier.\n",
        "- `None` est équivalent à `NULL` en Java et en C."
      ]
    },
    {
      "cell_type": "code",
      "execution_count": null,
      "metadata": {
        "colab": {
          "base_uri": "https://localhost:8080/",
          "height": 50
        },
        "id": "QlZdLN1oCNF_",
        "outputId": "c28b28dc-25fa-4975-c590-94b49af80fda"
      },
      "outputs": [
        {
          "name": "stdout",
          "output_type": "stream",
          "text": [
            "None\n",
            "<class 'NoneType'>\n"
          ]
        }
      ],
      "source": [
        "a = None\n",
        "print(a)\n",
        "print(type(a))"
      ]
    },
    {
      "cell_type": "markdown",
      "metadata": {
        "id": "4D8OnbU9CNGB"
      },
      "source": [
        "### Booléens\n",
        "\n",
        "Les booléens ne peuvent avoir que deux valeurs :\n",
        "\n",
        "```python\n",
        "True, False\n",
        "```\n",
        "\n",
        "On peut utiliser la fonction [`bool()`](https://docs.python.org/3/library/functions.html#bool) pour construire un booléen.\n",
        "    \n"
      ]
    },
    {
      "cell_type": "code",
      "execution_count": null,
      "metadata": {
        "colab": {
          "base_uri": "https://localhost:8080/"
        },
        "id": "piz0suYCB66C",
        "outputId": "fdcc8201-68a8-4891-eddc-919cab4a6859"
      },
      "outputs": [
        {
          "name": "stdout",
          "output_type": "stream",
          "text": [
            "<class 'bool'>\n",
            "False\n"
          ]
        }
      ],
      "source": [
        "test =bool() # ou  test= False\n",
        "print(type(test))\n",
        "print(test)"
      ]
    },
    {
      "cell_type": "markdown",
      "metadata": {
        "id": "3nqw9oJsCNGL"
      },
      "source": [
        "### Numériques\n",
        "\n",
        "#### Entiers\n",
        "\n"
      ]
    },
    {
      "cell_type": "code",
      "execution_count": null,
      "metadata": {
        "colab": {
          "base_uri": "https://localhost:8080/"
        },
        "id": "ffcEJbqdCNGM",
        "outputId": "8149cb9f-c5ec-4052-9f22-f3667971e9e8"
      },
      "outputs": [
        {
          "name": "stdout",
          "output_type": "stream",
          "text": [
            "4\n",
            "<class 'int'>\n",
            "1415926535897932384626433832795028841971\n",
            "<class 'int'>\n"
          ]
        }
      ],
      "source": [
        "# La taille est illimitée.\n",
        "# Il n'y a plus de distinction entre les entiers \"courts\" et les entiers \"longs\"\n",
        "entier = 4\n",
        "print(entier)\n",
        "print(type(entier))\n",
        "# Ce nombre nécéssite 131 bits\n",
        "entier = 1415926535897932384626433832795028841971\n",
        "print(entier)\n",
        "print(type(entier))"
      ]
    },
    {
      "cell_type": "markdown",
      "metadata": {
        "id": "bye2B34NCNGR"
      },
      "source": [
        "- On peut utiliser la fonction interne [``int()``](https://docs.python.org/3/library/functions.html#int) pour créer des nombres entiers.\n",
        "-``int()`` peut créer des entiers a partir de leur représentation sous forme de chaîne de caractères. On peut aussi spécifier la base."
      ]
    },
    {
      "cell_type": "code",
      "execution_count": null,
      "metadata": {
        "colab": {
          "base_uri": "https://localhost:8080/"
        },
        "id": "vhSS-dfdCNGS",
        "outputId": "c5fbb3cb-8c56-409b-f973-65e5338ed51a"
      },
      "outputs": [
        {
          "name": "stdout",
          "output_type": "stream",
          "text": [
            "12\n",
            "<class 'int'>\n",
            "13\n",
            "<class 'int'>\n",
            "255\n",
            "<class 'int'>\n"
          ]
        }
      ],
      "source": [
        "entier = int(12)\n",
        "print(entier)\n",
        "print(type(entier))\n",
        "entier = int('13')\n",
        "print(entier)\n",
        "print(type(entier))\n",
        "entier = int('0xFF', 16)\n",
        "print(entier)\n",
        "print(type(entier))"
      ]
    },
    {
      "cell_type": "markdown",
      "metadata": {
        "id": "Oa80UtjnZXeF"
      },
      "source": [
        "#### Exemples :"
      ]
    },
    {
      "cell_type": "code",
      "execution_count": null,
      "metadata": {
        "colab": {
          "base_uri": "https://localhost:8080/"
        },
        "id": "iiq-xAlGE1VQ",
        "outputId": "26232bc5-0182-406f-dabb-93c9215c07ff"
      },
      "outputs": [
        {
          "data": {
            "text/plain": [
              "0"
            ]
          },
          "execution_count": 1,
          "metadata": {},
          "output_type": "execute_result"
        }
      ],
      "source": [
        "x=int() # x=0\n",
        "x"
      ]
    },
    {
      "cell_type": "code",
      "execution_count": null,
      "metadata": {
        "colab": {
          "base_uri": "https://localhost:8080/",
          "height": 35
        },
        "id": "pCJsZMYizNSF",
        "outputId": "ede77555-bf45-4719-c214-119a6d3e5e9e"
      },
      "outputs": [
        {
          "data": {
            "text/plain": [
              "13"
            ]
          },
          "execution_count": 12,
          "metadata": {
            "tags": []
          },
          "output_type": "execute_result"
        }
      ],
      "source": [
        "x=0b1101  # représentation binaire\n",
        "#x=1*(2**3)+1*(2**2)+0*(2**1)+ 1*(2**0)\n",
        "x"
      ]
    },
    {
      "cell_type": "code",
      "execution_count": null,
      "metadata": {
        "colab": {
          "base_uri": "https://localhost:8080/",
          "height": 35
        },
        "id": "0-EihZUtHm7a",
        "outputId": "d56dffaa-3aaa-43bd-fd86-5081cfa3f20d"
      },
      "outputs": [
        {
          "data": {
            "text/plain": [
              "475"
            ]
          },
          "execution_count": 15,
          "metadata": {
            "tags": []
          },
          "output_type": "execute_result"
        }
      ],
      "source": [
        "x = 0o733 # représentation octal\n",
        "#x= 7*8**2+3*8**1+3*8**0\n",
        "x"
      ]
    },
    {
      "cell_type": "code",
      "execution_count": null,
      "metadata": {
        "colab": {
          "base_uri": "https://localhost:8080/"
        },
        "id": "j9QAAtFUIxNI",
        "outputId": "c42327c2-fb42-41b8-d8ee-65480dfd08db"
      },
      "outputs": [
        {
          "data": {
            "text/plain": [
              "44279"
            ]
          },
          "execution_count": 3,
          "metadata": {},
          "output_type": "execute_result"
        }
      ],
      "source": [
        "x= 0xACF7 # représentation hexadecimal\n",
        "# x= A*(16**3)+C*(16**2)+F*(16**1)+ 7*(16**0)\n",
        "# x= 10*(16**3)+12*(16**2)+15*(16**1)+ 7*(16**0)\n",
        "x"
      ]
    },
    {
      "cell_type": "code",
      "execution_count": null,
      "metadata": {
        "colab": {
          "base_uri": "https://localhost:8080/",
          "height": 35
        },
        "id": "RQGiSmBKoby9",
        "outputId": "acabc211-985c-4b28-a86b-f1b8ffd4445a"
      },
      "outputs": [
        {
          "name": "stdout",
          "output_type": "stream",
          "text": [
            "2e-09\n"
          ]
        }
      ],
      "source": [
        "x=2e-9 # représentation exponentielle\n",
        "print(x)"
      ]
    },
    {
      "cell_type": "markdown",
      "metadata": {
        "id": "paYKm4AECNGV"
      },
      "source": [
        "#### Flottants (réels 64 bits)\n",
        "\n",
        "Pour créer des nombres réels (en virgule flottante), on peut utiliser la fonction interne [``float()``](https://docs.python.org/3/library/functions.html#float).\n",
        "\n",
        "La précision est limitée à la 16ème décimale."
      ]
    },
    {
      "cell_type": "code",
      "execution_count": null,
      "metadata": {
        "colab": {
          "base_uri": "https://localhost:8080/"
        },
        "id": "BbwO66NiCNGX",
        "outputId": "a2051b5c-5caf-41c7-d7b8-fcab4bbb6006"
      },
      "outputs": [
        {
          "name": "stdout",
          "output_type": "stream",
          "text": [
            "3.141592653589793\n",
            "<class 'float'>\n",
            "3.1415926535897931\n"
          ]
        }
      ],
      "source": [
        "pi_approx = 3.1415926535897932  # ou encore pi_approx= float(3.1415926535897932)\n",
        "print(pi_approx)\n",
        "print(type(pi_approx))\n",
        "print('{:.16f}'.format(pi_approx))\n"
      ]
    },
    {
      "cell_type": "markdown",
      "metadata": {
        "id": "Z15hd0ZQCNGq"
      },
      "source": [
        "#### Complexes\n",
        "\n",
        "Les nombres complexes peuvent être créés en utilisant le suffixe `j` à la fin d'un entier ou réel ou en utilisant la fonction interne [`complex()`](https://docs.python.org/3/library/functions.html#complex)"
      ]
    },
    {
      "cell_type": "code",
      "execution_count": null,
      "metadata": {
        "colab": {
          "base_uri": "https://localhost:8080/"
        },
        "id": "YGJVRpstCNGs",
        "outputId": "59aac153-e82a-484f-a612-d0ee373691be"
      },
      "outputs": [
        {
          "name": "stdout",
          "output_type": "stream",
          "text": [
            "représentation : (1+2j)\n",
            "<class 'complex'>\n",
            "(-1+0j)\n"
          ]
        }
      ],
      "source": [
        "# Exemple 1\n",
        "c = 1 + 2j # ou  c= complex(1,2)\n",
        "print('représentation :', c)\n",
        "print(type(c))\n",
        "# Exemple 2\n",
        "z = 1j\n",
        "print(z**2)"
      ]
    },
    {
      "cell_type": "markdown",
      "metadata": {
        "id": "ascpIXLKCggO"
      },
      "source": [
        "## **1.4. Structures de contrôle**\n",
        "\n"
      ]
    },
    {
      "cell_type": "markdown",
      "metadata": {
        "id": "6zl_5nVDwJL8"
      },
      "source": [
        "- La mise en page comme syntaxe\n",
        "- tests conditionels : ``if/elif/else``\n",
        "- Choix Multiple :  ``Match case ``\n",
        "- boucles\n",
        "\t* ``for elt in liste``\n",
        "    * ``for idx in range(len(liste))``\n",
        "\t* ``while``\n",
        "\t* ``break``\n",
        "\t* ``continue``"
      ]
    },
    {
      "cell_type": "markdown",
      "metadata": {
        "id": "Z99MoIjACggQ"
      },
      "source": [
        "##### **La mise en page comme syntaxe**\n",
        "\n",
        "- La mise en page est importante en python, c'est une différence majeure avec les autres langages (Java, C++, etc.)\n",
        "- Python utilise **l'indentation** du code avec des caractères blancs plutôt que des mots clés (begin/end en pascal) ou des symboles (`{}` en java et C++). Cela permet de rendre le code plus compact.\n",
        "- Elle va servir a délimiter des blocs de code sur lesquels les structures de contrôle comme les boucles ou les tests de conditions vont s'appliquer.\n",
        "- Un bloc de code est un groupe d’instructions Python précédé par le caractère « : » où chaque instruction du bloc est indentée.\n",
        "- Les structures de contrôle permettent de changer le flot d’exécution d’un programme.\n",
        "<img style=\"float:center; margin: 0px 0px 0px 0px;\" src=\"https://docs.google.com/uc? export=download&id=1bBQEcpGcJZXCQsDgg2jJ5clJBTrrxq3L\" width=\"430\" align=\"text right\"/>\n",
        "\n"
      ]
    },
    {
      "cell_type": "markdown",
      "metadata": {
        "id": "s_3LxrUkRCBw"
      },
      "source": [
        "#### **tests conditionels : if/elif/else**"
      ]
    },
    {
      "cell_type": "code",
      "execution_count": null,
      "metadata": {
        "id": "Ltj0n7FbUK_C"
      },
      "outputs": [],
      "source": [
        "# Structure conditionnelle : permet de conditionner un ou plusieurs blocs d’instructions\n",
        "# obligatoire\n",
        "if cond :\n",
        "    bloc1\n",
        "    if cond 2 :\n",
        "\n",
        "# (optionnelle) autant de fois que nécessaire\n",
        "elif cond2 :\n",
        "    bloc2\n",
        "...\n",
        "# (optionnelle) une seule fois à la fin\n",
        "else :\n",
        "    bloc3"
      ]
    },
    {
      "cell_type": "markdown",
      "metadata": {
        "id": "f4FxxjW8MHSQ"
      },
      "source": [
        "**Exemple 1 :**"
      ]
    },
    {
      "cell_type": "code",
      "execution_count": null,
      "metadata": {
        "id": "yyuspA1Pie_M"
      },
      "outputs": [],
      "source": [
        "#maximum de 3 entiers x, y, z\n",
        "if x > y and x > z :\n",
        "    print(x)\n",
        "elif y > z:\n",
        "    print(y)\n",
        "else :\n",
        "    print(z)"
      ]
    },
    {
      "cell_type": "markdown",
      "metadata": {
        "id": "_TfenLGZMN-r"
      },
      "source": [
        "**Exemple 2 :**"
      ]
    },
    {
      "cell_type": "code",
      "execution_count": null,
      "metadata": {
        "id": "DYUsvjBzCggk",
        "solution2": "hidden"
      },
      "outputs": [],
      "source": [
        "taille = float(input('Quelle est votre taille ? '))\n",
        "if taille >= 2.0:\n",
        "    print('grand')\n",
        "elif taille >= 1.80:\n",
        "    print('moyen')\n",
        "else:\n",
        "    print('petit')"
      ]
    },
    {
      "cell_type": "markdown",
      "metadata": {
        "id": "RepH5li5xAbn"
      },
      "source": [
        "#### **Choix multiple : Match case**"
      ]
    },
    {
      "cell_type": "markdown",
      "metadata": {
        "id": "SfqSzhhTyEKR"
      },
      "source": [
        "- Apparu en 2021, la version Python 3.10 a implémenté l'instruction **Match**.\n",
        "- L'instruction Match(switch) dans d'autres langages tels que C ou Java fait une simple correspondance de valeur sur une variable et exécute du code en fonction de cette valeur.\n",
        "- La version Python 3.10 implémente une construction beaucoup plus puissante et flexible appelée 'Structural Pattern Matching'. Il peut être utilisé comme une simple instruction switch mais est capable de bien plus."
      ]
    },
    {
      "cell_type": "code",
      "execution_count": null,
      "metadata": {
        "id": "-osOVD_Ezwir"
      },
      "outputs": [],
      "source": [
        "# Exemple 1\n",
        "match status:\n",
        "\n",
        "        case 200 :\n",
        "            return \"OK\"\n",
        "        case 400:\n",
        "            return \"Bad request\"\n",
        "        case 404:\n",
        "            return \"Not found\"\n",
        "        case 500 :\n",
        "            return \"Internal Server Error server error\"\n",
        ""
      ]
    },
    {
      "cell_type": "code",
      "execution_count": null,
      "metadata": {
        "id": "cP2rEeT9026X"
      },
      "outputs": [],
      "source": [
        "# On peut combiner plusieurs cas en utilisant '|' ou 'or'\n",
        "        case 401 | 403 | 404:\n",
        "            return \"Not allowed\""
      ]
    },
    {
      "cell_type": "code",
      "execution_count": null,
      "metadata": {
        "id": "o7PenzDt2eHZ"
      },
      "outputs": [],
      "source": [
        "\n",
        "# Exemple 2 :\n",
        "# point est de type tuple (x, y)\n",
        "match point:\n",
        "    case (0, 0):\n",
        "        print(\"Origin\")\n",
        "    case (0, y):\n",
        "        print(f\"Y={y}\")\n",
        "    case (x, 0):\n",
        "        print(f\"X={x}\")\n",
        "    case (x, y):\n",
        "        print(f\"X={x}, Y={y}\")\n",
        "    case _:\n",
        "        raise ValueError(\"Not a point\")"
      ]
    },
    {
      "cell_type": "markdown",
      "metadata": {
        "id": "87xjBKawCggm"
      },
      "source": [
        "#### **Boucles**\n",
        "\n",
        "Les boucles sont les structures de contrôle permettant de répéter l'exécution d'un bloc de code plusieurs fois."
      ]
    },
    {
      "cell_type": "markdown",
      "metadata": {
        "id": "ahlTN5jGCggo"
      },
      "source": [
        "##### Boucle `while`\n",
        "\n",
        "La plus simple est la boucle de type `while` :\n",
        "\n",
        "```python\n",
        "while <condition>:\n",
        "    <bloc 1>\n",
        "<bloc 2>\n",
        "```\n"
      ]
    },
    {
      "cell_type": "markdown",
      "metadata": {
        "id": "vg70x5Y8ejX8"
      },
      "source": [
        "Boucle Conditionnelle Tantque : permet d’exécuter un bloc tant que la condition\n",
        "de la boucle est vraie, la condition est toujours testée avant l’exécution du bloc de\n",
        "la boucle.\n"
      ]
    },
    {
      "cell_type": "code",
      "execution_count": null,
      "metadata": {
        "colab": {
          "base_uri": "https://localhost:8080/"
        },
        "id": "rEKRtf0HCggo",
        "outputId": "249a6af0-2ca0-4e89-ddd0-b52bd7d3f87f"
      },
      "outputs": [
        {
          "name": "stdout",
          "output_type": "stream",
          "text": [
            "le compteur vaut : 3\n",
            "le compteur vaut : 2\n",
            "le compteur vaut : 1\n",
            "le compteur a été décrémenté 3 fois et vaut maintenant 0\n"
          ]
        }
      ],
      "source": [
        "compteur = 3\n",
        "while compteur > 0:\n",
        "    print('le compteur vaut :', compteur)\n",
        "    compteur -= 1\n",
        "print('le compteur a été décrémenté 3 fois et vaut maintenant', compteur)"
      ]
    },
    {
      "cell_type": "markdown",
      "metadata": {
        "id": "msenCmzHhzyS"
      },
      "source": [
        "Exemple 1 : pgcd"
      ]
    },
    {
      "cell_type": "code",
      "execution_count": null,
      "metadata": {
        "id": "T127YfawdHtd"
      },
      "outputs": [],
      "source": [
        "x=145\n",
        "y=75\n",
        "---------------\n",
        "x=75\n",
        "y= 145%75= 70\n",
        "--------------\n",
        "x= 70\n",
        "y= 75%70 = 5\n",
        "------------\n",
        "x= 5\n",
        "y= 70%5 = 0\n",
        "--------"
      ]
    },
    {
      "cell_type": "code",
      "execution_count": null,
      "metadata": {
        "colab": {
          "base_uri": "https://localhost:8080/",
          "height": 52
        },
        "id": "Mt0cQTC0fd75",
        "outputId": "1c1c4555-bb3a-4acd-9132-e9bee9c8f9c5"
      },
      "outputs": [
        {
          "name": "stdout",
          "output_type": "stream",
          "text": [
            "5\n",
            "0\n"
          ]
        }
      ],
      "source": [
        "\n",
        "# ∀ x,y ∈ Z   pgcd(x, y) =pgcd(y, x mod y)\n",
        "x=145\n",
        "y=75\n",
        "while y != 0 :\n",
        "    x, y = y, x % y\n",
        "\n",
        "print(x)\n",
        "print(y)"
      ]
    },
    {
      "cell_type": "markdown",
      "metadata": {
        "id": "cF35QfmdgeWj"
      },
      "source": [
        "Exemple : 2\n",
        "\n",
        "$u1 = 1$\n",
        "\n",
        "$u_n$ = $u^2_{n−1} + u_{n−1}$\n",
        "trouver le premier terme $u_k$ tel que $u_k$ > 10"
      ]
    },
    {
      "cell_type": "code",
      "execution_count": null,
      "metadata": {
        "colab": {
          "base_uri": "https://localhost:8080/"
        },
        "id": "cXPHZOgSi1rZ",
        "outputId": "6bc5e845-eb7a-42e8-f66a-1805a605908b"
      },
      "outputs": [
        {
          "name": "stdout",
          "output_type": "stream",
          "text": [
            "42\n"
          ]
        }
      ],
      "source": [
        "u = 1\n",
        "while u <= 10 :\n",
        "    u = u**2+u\n",
        "print(u)"
      ]
    },
    {
      "cell_type": "markdown",
      "metadata": {
        "id": "2IySH6RijFO0"
      },
      "source": [
        "Boucle conditionnelle  **Répéter . . . jusqu’à cond :**  permet d’exécuter un bloc jusqu’à ce que la condition d’arrêt devienne False.\n",
        "\n",
        "La condition d’arrêt est toujours testée après l’exécution du bloc de la boucle."
      ]
    },
    {
      "cell_type": "code",
      "execution_count": null,
      "metadata": {
        "id": "oj-QKT6nkPCR"
      },
      "outputs": [],
      "source": [
        "while True :\n",
        "    if cond :\n",
        "        break"
      ]
    },
    {
      "cell_type": "code",
      "execution_count": null,
      "metadata": {
        "id": "zWGMvfnekWIC"
      },
      "outputs": [],
      "source": [
        "#saisie d’un réel entre 0 et 1\n",
        "while True :\n",
        "    p = float(input(' p= '))\n",
        "    if 0 <= p <= 1:\n",
        "        break"
      ]
    },
    {
      "cell_type": "markdown",
      "metadata": {
        "id": "gDJmDxe8Cggx"
      },
      "source": [
        "##### Boucle `for`\n",
        "\n",
        "Une boucle plus complexe : `for/in`\n",
        "\n",
        "```python\n",
        "for <variable> in <iterable>:\n",
        "    <bloc 1>\n",
        "<bloc 2>\n",
        "```\n",
        "\n",
        "- A chaque tour de boucle, la variable `<variable>` référence un des éléménts de l'`<iterable>`.\n",
        "- La boucle s'arrête quand tous les éléménts de l'itérable ont été traités. Il est fortement déconseillé de modifier l'itérable en question dans le `<bloc 1>`."
      ]
    },
    {
      "cell_type": "markdown",
      "metadata": {
        "id": "E-9DahYKCgg6"
      },
      "source": [
        "Si nous voulons itérer sur une liste, nous avons besoin des indices liés a chaque élément, nous utilisons une combinaison de [`range()`](https://docs.python.org/3/library/functions.html#func-range) et [`len()`](https://docs.python.org/3/library/functions.html#len)."
      ]
    },
    {
      "cell_type": "markdown",
      "metadata": {
        "id": "UzcLDyG_k2fL"
      },
      "source": [
        "La classe range permet de générer un itérable formé par une succession d’entiers int.\n"
      ]
    },
    {
      "cell_type": "code",
      "execution_count": null,
      "metadata": {
        "id": "Je2t4ZiyeGJ1"
      },
      "outputs": [],
      "source": [
        "range(n) # {0 . . . n − 1}\n",
        "range(start,stop) # {start . . . end − 1}\n",
        "range(start, stop, step) # {start, start + step, . . . v}\n",
        "# tel que |v − stop| ≤ step\n"
      ]
    },
    {
      "cell_type": "code",
      "execution_count": null,
      "metadata": {
        "id": "er7yfG2yl32z"
      },
      "outputs": [],
      "source": [
        "for v in itérable:\n",
        "    bloc # calcul de la factorielle de n\n"
      ]
    },
    {
      "cell_type": "code",
      "execution_count": null,
      "metadata": {
        "colab": {
          "base_uri": "https://localhost:8080/"
        },
        "id": "VB7nRahd60Ir",
        "outputId": "0a592de6-3cd8-4675-8660-c7391cfaf7eb"
      },
      "outputs": [
        {
          "name": "stdout",
          "output_type": "stream",
          "text": [
            "1;4;7;10;"
          ]
        }
      ],
      "source": [
        "for i in range(1,11,3):\n",
        "    print(i, end=';')"
      ]
    },
    {
      "cell_type": "code",
      "execution_count": null,
      "metadata": {
        "colab": {
          "base_uri": "https://localhost:8080/"
        },
        "id": "1OgaZlgRl9Ap",
        "outputId": "5d2c37ab-a11f-4fda-adb0-9b2a2adde496"
      },
      "outputs": [
        {
          "name": "stdout",
          "output_type": "stream",
          "text": [
            "120\n"
          ]
        }
      ],
      "source": [
        "# calcul de la factorielle de n = 5\n",
        "n = 5\n",
        "f = 1\n",
        "for v in range(2,n+1):\n",
        "    f *= v\n",
        "print(f)"
      ]
    },
    {
      "cell_type": "code",
      "execution_count": null,
      "metadata": {
        "colab": {
          "base_uri": "https://localhost:8080/",
          "height": 51
        },
        "id": "a12gXDyECgg7",
        "outputId": "8db2e755-c94e-43be-cf7b-6be6b9aee08d"
      },
      "outputs": [
        {
          "name": "stdout",
          "output_type": "stream",
          "text": [
            "[0, 1, 2, 3, 4, 5, 6, 7]\n",
            "[4, 16, 64, 36, 64, 1, 0, (-1+0j)]\n"
          ]
        }
      ],
      "source": [
        "nombres = [2, 4, 8, 6, 8, 1, 0, 1j]\n",
        "print(list(range(len(nombres))))  # len renvoie la taille de la liste\n",
        "for idx in range(len(nombres)): # range permet de générer les indices de 0 à 7\n",
        "    nombres[idx] **= 2\n",
        "# Les carrés\n",
        "print(nombres)"
      ]
    },
    {
      "cell_type": "markdown",
      "metadata": {
        "id": "_92M04VRCgg9"
      },
      "source": [
        "La fonction  [``enumerate()``](https://docs.python.org/3/library/functions.html#enumerate)"
      ]
    },
    {
      "cell_type": "code",
      "execution_count": null,
      "metadata": {
        "colab": {
          "base_uri": "https://localhost:8080/"
        },
        "id": "N-_lYX6_Cgg-",
        "outputId": "5e75e8d3-2aef-4335-e548-045ea1bb8be2"
      },
      "outputs": [
        {
          "name": "stdout",
          "output_type": "stream",
          "text": [
            "0:2 ; 1:4 ; 2:8 ; 3:6 ; 4:8 ; 5:1 ; 6:0 ; "
          ]
        }
      ],
      "source": [
        "nombres = [2, 4, 8, 6, 8, 1, 0]\n",
        "for (idx, item) in enumerate(nombres):\n",
        "    print(idx,item, sep=':', end=' ; ')\n",
        "# Les impairs\n"
      ]
    },
    {
      "cell_type": "markdown",
      "metadata": {
        "id": "4RX7fqhbCghD"
      },
      "source": [
        "##### Instruction ``break``\n",
        "\n",
        "Il est possible d'arrêter prématurément une boucle grâce a l'instruction ``break``.\n",
        "\n",
        "L'instruction ``break`` est utilisable indifférement dans les boucles ``for`` ou ``while``."
      ]
    },
    {
      "cell_type": "code",
      "execution_count": null,
      "metadata": {
        "colab": {
          "base_uri": "https://localhost:8080/"
        },
        "id": "5oUMSPvGCghF",
        "outputId": "30174e5c-0ecc-4a76-fca7-11a3c61351f8"
      },
      "outputs": [
        {
          "name": "stdout",
          "output_type": "stream",
          "text": [
            "compteur = 2\n",
            "compteur = 1\n",
            "compteur = 0\n",
            "c'était pas vraiment une boucle infinie...\n"
          ]
        }
      ],
      "source": [
        "compteur = 3\n",
        "while True:  # Notre boucle infinie\n",
        "    compteur -= 1\n",
        "    print('compteur =', compteur)\n",
        "    if compteur <= 0:\n",
        "        break  # On sort de la boucle while immédiatement\n",
        "print(\"c'était pas vraiment une boucle infinie...\")"
      ]
    },
    {
      "cell_type": "markdown",
      "metadata": {
        "id": "4gFQur3bCghH"
      },
      "source": [
        "En cas d'imbrication de plusieurs boucles, l'instruction ``break`` sort de la plus imbriquée (la plus proche)."
      ]
    },
    {
      "cell_type": "code",
      "execution_count": null,
      "metadata": {
        "colab": {
          "base_uri": "https://localhost:8080/"
        },
        "id": "MdmICgQwCghH",
        "outputId": "36183b4e-46b4-48a5-9cac-b384c11925bf"
      },
      "outputs": [
        {
          "name": "stdout",
          "output_type": "stream",
          "text": [
            "i, j = 1, 1\n",
            "i, j = 1, 2\n",
            "i, j = 1, 3\n",
            "i, j = 1, 4\n",
            "i, j = 3, 1\n",
            "i, j = 3, 2\n",
            "i, j = 3, 3\n",
            "i, j = 3, 4\n"
          ]
        }
      ],
      "source": [
        "for i in (1, 2, 3):\n",
        "    for j in (1, 2, 3, 4):\n",
        "        if i == 2:\n",
        "            break\n",
        "        print(\"i, j = {}, {}\".format(i, j))"
      ]
    },
    {
      "cell_type": "markdown",
      "metadata": {
        "id": "386pxXGpCghK"
      },
      "source": [
        "##### Instruction ``continue``\n",
        "\n",
        "Si, dans une boucle, on veut passer immédiatement à l'itération suivante, on utilise l'instruction ``continue``."
      ]
    },
    {
      "cell_type": "code",
      "execution_count": null,
      "metadata": {
        "colab": {
          "base_uri": "https://localhost:8080/"
        },
        "id": "4R0tz7Vt3imP",
        "outputId": "3bd1d262-4b3a-4e87-c274-2a610e739b25"
      },
      "outputs": [
        {
          "name": "stdout",
          "output_type": "stream",
          "text": [
            "0\n",
            "1\n",
            "2\n",
            "4\n"
          ]
        }
      ],
      "source": [
        "for  i in range(5) :\n",
        "    if i==3 :\n",
        "        continue\n",
        "    print(i)"
      ]
    },
    {
      "cell_type": "markdown",
      "metadata": {
        "id": "KyN-KRqr5-lQ"
      },
      "source": [
        "\n",
        "<img style=\"float:center; margin: 0px 0px 0px 0px;\" src=\"https://docs.google.com/uc? export=download&id=1RBVUooHyBb7ad1T7MyNPXtGF3CyN_agN\" width=\"100\" align=\"left\"/>\n",
        "\n",
        "## **1.5. Exercices** : **Opérateurs** // **Types de base** //  **Structures de contrôle**"
      ]
    },
    {
      "cell_type": "markdown",
      "metadata": {
        "id": "dzEAkt-afh3a"
      },
      "source": [
        "####**Exercice 1:**\n",
        "\n",
        "Ecrire un programme Python qui effectue une permutation circulaire de trois variables A et B et C."
      ]
    },
    {
      "cell_type": "code",
      "execution_count": null,
      "metadata": {
        "colab": {
          "base_uri": "https://localhost:8080/",
          "height": 121
        },
        "id": "LGRrZcfnfh3a",
        "outputId": "effd1b97-69f2-4214-9d22-df7b58cb0fbf"
      },
      "outputs": [
        {
          "name": "stdout",
          "output_type": "stream",
          "text": [
            "donner la valeur de a : 1\n",
            "donner la valeur de b:  2\n",
            "donner la valeur de c : 3\n",
            "la valeur de a:  2\n",
            "la valeur de b:  3\n",
            "la valeur de c:  1\n"
          ]
        }
      ],
      "source": [
        "a=input(\"donner la valeur de a : \")\n",
        "b=input(\"donner la valeur de b:  \")\n",
        "c=input(\"donner la valeur de c : \")\n",
        "aux=a\n",
        "a=b\n",
        "b=c\n",
        "c=aux\n",
        "print(\"la valeur de a: \"  ,a)\n",
        "print(\"la valeur de b: \", b)\n",
        "print(\"la valeur de c: \",c)"
      ]
    },
    {
      "cell_type": "markdown",
      "metadata": {
        "id": "5oo9sW1Tfh3b"
      },
      "source": [
        "#### **Exercice 2 :**\n",
        "\n",
        "Ecrire un programme Python qui saisi trois entiers a, b et c et résout dans l’ensemble $C$ l’équation de second degrée $ax^2+bx+c=0$.\n",
        "\n",
        "On discutera tous les cas possible pour a, b et c."
      ]
    },
    {
      "cell_type": "markdown",
      "metadata": {
        "id": "mxpVIShnfh3c"
      },
      "source": [
        "#### **Exercice 3 :**\n",
        "\n",
        "Une année est bissextile (contient 366 jours) si elle est multiple de 4, sauf les années de début de siècle (qui  se termine par 00) qui ne sont bissextile que si elles sont divisible par 400.\n",
        "```\n",
        "Exemple :\n",
        "1980 et 1996 sont bissextiles car elles sont divisibles par 4\n",
        "2000 est une année bissextile car elle est divisible par 400\n",
        "2100 et 3000 ne sont pas bissextiles car elles ne sont pas divisibles par 400\n",
        "```\n",
        "- Ecrire un script Python qui permet de déterminer si un entier positif donné correspond à une année bissextile ou non.\n",
        "- Ecrire un script Python qui permet de calculer le nombre de jour restant à la fin d’un mois donné."
      ]
    },
    {
      "cell_type": "code",
      "execution_count": null,
      "metadata": {
        "id": "MLCzGeLAfh3c"
      },
      "outputs": [],
      "source": []
    },
    {
      "cell_type": "markdown",
      "metadata": {
        "id": "xvDu-Ye2fh3d"
      },
      "source": [
        "#### **Exercice 4** : jeu de devinette\n",
        "\n",
        "Ecrire un programme devinette qui permet de deviner un entier généré par le programme d’une façon aléatoire (compris entre 1 et 100).\n",
        "- on indiquera à l’utilisateur si l’entier introduit est plus grand ou plus petit que l’entier caché.\n",
        "- Un bravo sera affiché lorsqu’il aurait deviné l’entier, on lui indiquera également au bout de combien de tentatives il est parvenu à trouver le nombre.\n",
        "\n",
        "**Remarque** : pour générer un entier aléatoire il faut importer le package random, puis utiliser la fonction **randint(a,b)** où a et b désigne l’intervalle [a,b] dans lequel l’entier aléatoire sera tiré."
      ]
    },
    {
      "cell_type": "code",
      "execution_count": null,
      "metadata": {
        "id": "kSYd7NP8fh3d"
      },
      "outputs": [],
      "source": [
        "print(\"jeu de devinette\")\n",
        "from random import randint\n",
        "c=randint(1,100)\n",
        "x=int(input(\"devinez un entier entre 1 et100\"))\n",
        "\n",
        "\n"
      ]
    },
    {
      "cell_type": "markdown",
      "metadata": {
        "id": "J1lSq9Y5fh3f"
      },
      "source": [
        "#### **Exercice 5 :**\n",
        "\n",
        "Modifier le programme précédant en ajoutant 3 niveaux de difficulté\n",
        "- (difficile (4 tentatives),\n",
        "- moyenne (7 tentatives), ou\n",
        "- facile (12 tentatives)).\n",
        "\n",
        "Le joueur choisi un niveau de difficulté, un nombre d’essai lui est alors attribué, si ce dernier épuise ses essais il aurait échoué et un message sera affiché.                                                                             \n",
        "**Remarque** : On lui indiquera à chaque fois le nombre de tentatives restants.\n"
      ]
    },
    {
      "cell_type": "markdown",
      "metadata": {
        "id": "H95ezu9xfh3g"
      },
      "source": [
        "#### **Exercice 6** :\n",
        "\n",
        "Ecrivez un script qui détermine si une chaine de caractères donnée est un palindrome (c'est-à-dire une chaine qui peut se lire indifféremment dans les deux sens), comme par exemple :  ``` radar  ou   s.o.s ```\n",
        "\n",
        "\n"
      ]
    },
    {
      "cell_type": "code",
      "execution_count": null,
      "metadata": {
        "id": "bixrApU9fh3g"
      },
      "outputs": [],
      "source": [
        "\"\"\"\n",
        "Définition d'une  fonction palindrome\n",
        "\"\"\"\n",
        "def palindrome(chaine):\n",
        "    i= 0\n",
        "    longueur = len(chaine)//2\n",
        "    while i < longueur:\n",
        "        if chaine[i]!=chaine[longueur-i-1]:\n",
        "            return False\n",
        "        i=i+1\n",
        "    return True"
      ]
    },
    {
      "cell_type": "code",
      "execution_count": null,
      "metadata": {
        "colab": {
          "base_uri": "https://localhost:8080/"
        },
        "id": "rRkvpz6Zfh3g",
        "outputId": "043fed1e-6fba-4ce1-9fde-a7f8b3a75ca4"
      },
      "outputs": [
        {
          "name": "stdout",
          "output_type": "stream",
          "text": [
            "donner une chaine: aacbaaa\n",
            "la chaine saisie est non palindrome\n"
          ]
        }
      ],
      "source": [
        "ch = input(\"donner une chaine: \")\n",
        "i=0\n",
        "l=len(ch)//2\n",
        "while i < l :\n",
        "    if ch[i] != ch[-i-1]:\n",
        "        print('la chaine saisie est non palindrome')\n",
        "        break\n",
        "    i+=1\n",
        "if i == l:\n",
        "    print('la chaine saisie est palindrome')\n",
        "\n",
        "\n"
      ]
    },
    {
      "cell_type": "code",
      "execution_count": null,
      "metadata": {
        "id": "2_Mgowfxfh3g"
      },
      "outputs": [],
      "source": [
        "ch = input(\"donner une chaine: \")\n",
        "if palindrome(ch):\n",
        "    print (\"Palindrome.\")\n",
        "else:\n",
        "    print (\"Pas palindrome.\")"
      ]
    },
    {
      "cell_type": "code",
      "execution_count": null,
      "metadata": {
        "colab": {
          "base_uri": "https://localhost:8080/",
          "height": 35
        },
        "id": "PyoBP6X5fh3h",
        "outputId": "d24181bb-a6ae-47f7-d450-f3a3a4e5379e"
      },
      "outputs": [
        {
          "name": "stdout",
          "output_type": "stream",
          "text": [
            "donner une chaine: radar\n"
          ]
        }
      ],
      "source": [
        "chaine = input(\"donner une chaine: \")\n",
        "i= 0\n",
        "longueur = len(chaine)\n",
        "while i < longueur:\n",
        "    if chaine[i]!=chaine[longueur-i-1]:\n",
        "        print(\"la chaine saisie n'est palindrome\")\n",
        "        break\n",
        "print(\"la chaine saisie est palindrome\")\n"
      ]
    },
    {
      "cell_type": "markdown",
      "metadata": {
        "id": "gIuhpgF1fh3h"
      },
      "source": [
        "#### **Exercice 7** :Somme de N premier entiers positifs\n",
        "Programme Python qui calcule et affiche la somme de N premiers entiers positifs. N est un entier saisi par l’utilisateur\n",
        "\n",
        "\n",
        "\n",
        "```\n",
        "Exemple d’exécution:\n",
        "\t***** Programme qui calcule et affiche la somme de N premier entiers positifs *****\n",
        "\tVeuillez entrer N: 100\n",
        "\tla somme de 100 premiers entiers positifs est 5050\n",
        "```\n",
        "\n"
      ]
    },
    {
      "cell_type": "code",
      "execution_count": null,
      "metadata": {
        "id": "zsZBc3bMfh3h"
      },
      "outputs": [],
      "source": [
        "print(\"***** Programme qui calcule et affiche la somme de N premiers entiers positifs *****\\n\")\n",
        "N=int(input(\"Veuillez entrer N: \"))\n",
        "somme=0 #initialisation à 0 de la variable somme\n",
        "for i in range(N+1):# dans cette boucle i va prendre les valeur de 0 jusqu'à N\n",
        "    somme+=i # comulation des entiers i\n",
        "print(\"la somme de\",N,\"premiers entiers positifs est\",somme)"
      ]
    },
    {
      "cell_type": "markdown",
      "metadata": {
        "id": "OZuGcvUefh3h"
      },
      "source": [
        "\n",
        "#### **Exercice 8**: La racine carrée d’un nombre\n",
        "\n",
        "- Programme qui calcule la racine carrée de  $\\sqrt x $\n",
        "- x est un nombre réel saisi par l’utilisateur.\n",
        "\n",
        "Si le nombre saisi est négatif, le programme redemande de saisir un nouveau.\n",
        "```\n",
        "Exemple d’exécution:\n",
        "\t***** Calcule la racine carrée d’un nombre *****\n",
        "\tVeuillez entrer un nombre positif : -5\n",
        "\tLe nombre entré est négatif!\n",
        "\tVeuillez entrer un nombre positif : 5\n",
        "\tLa racine carrée de 5.00 est 2.2\n",
        "```\n",
        "\n"
      ]
    },
    {
      "cell_type": "code",
      "execution_count": null,
      "metadata": {
        "id": "oLBIoCevfh3h"
      },
      "outputs": [],
      "source": [
        "from math import sqrt\n",
        "\n",
        "print(\"\\n***** Calcule la racine carée d'un nombre *****\\n\")\n",
        "x=float(input(\"Veuillez entrer un nombre positif : \"))\n",
        "\n",
        "while x<0:\n",
        "    print(\"Le nombre entré est négatif!\")\n",
        "    x=float(input(\"Veuillez enrer un nombre positif : \"))\n",
        "\n",
        "print(\"La racine caré de %.2f est %.2f\" %(x,sqrt(x)))"
      ]
    },
    {
      "cell_type": "markdown",
      "metadata": {
        "id": "AsnpFZfnfh3i"
      },
      "source": [
        "#### **Exercice 9:** Tous les nombres paires inférieures à 100\n",
        "\n",
        "Programme Python qui affiche tous les nombres paires inférieurs à 100.\n"
      ]
    },
    {
      "cell_type": "code",
      "execution_count": null,
      "metadata": {
        "id": "QpaiTQPYfh3i"
      },
      "outputs": [],
      "source": []
    },
    {
      "cell_type": "markdown",
      "metadata": {
        "id": "IZgjdz7Qfh3i"
      },
      "source": [
        "#### **Exercice 10:**   x à la puissance y\n",
        "Programme qui calcule x à la puissance y. x et y deux entiers saisis par l’utilisateur\n",
        "```\n",
        "Exemple d’exécution:\n",
        "\t****** Programme qui calcule x à la puissance y.*****\n",
        "\tEntrer x: 3\n",
        "\tEntrer y: 4\n",
        "\t34=81\n",
        "```\n",
        "\n"
      ]
    },
    {
      "cell_type": "markdown",
      "metadata": {
        "id": "jl9IbUoXfh3j"
      },
      "source": [
        "#### **Exercice 11:** Table de multiplication d’un entier\n",
        "Programme permettant d’afficher la table de multiplication d’un entier saisi par l’utilisateur.\n",
        "Exemple d’exécution:\n",
        "\n",
        "**Programme permettant d’afficher la table de multiplication de 7**    \n",
        "```\n",
        "Entrer un entier 7\n",
        "\t1 x 7 = 7\n",
        "\t2 x 7 = 14\n",
        "\t3 x 7 = 21\n",
        "\t4 x 7 = 28\n",
        "\t5 x 7 = 35\n",
        "\t6 x 7 = 42\n",
        "\t7 x 7 = 49\n",
        "\t8 x 7 = 56\n",
        "\t9 x 7 = 63\n",
        "\t10 x 7 = 70\n",
        "```\n",
        "\n"
      ]
    },
    {
      "cell_type": "markdown",
      "metadata": {
        "id": "Uoanuf-wfh3k"
      },
      "source": [
        "#### **Exercice 12:**  *Division à l’aide des boucles*\n",
        "Programme qui calcule la division entière de A sur B et son reste avec juste la soustraction et l’addition.   \n",
        "A et B deux entiers saisis par l’utilisateur\n"
      ]
    },
    {
      "cell_type": "code",
      "execution_count": null,
      "metadata": {
        "id": "2iE3yJEBfh3k"
      },
      "outputs": [],
      "source": [
        "\"\"\" Division à l’aide des boucles\n",
        "Programme qui calcule la division entière de A sur B et son reste avec juste la soustraction et l’addition.\n",
        "A et B deux entiers saisis par l’utilisateur\n",
        "\"\"\"\n",
        "# Programme qui calcule la division entière de A sur B et son reste, A et B deux entiers saisis par l’utilisateur\n",
        "\n",
        "print(\"*******Programme qui calcule la division entière de A sur B et son reste, A et B deux entiers saisis par l’utilisateur*******\")\n",
        "A=int(input(\"Entrer l'entier A :\"))\n",
        "B=int(input(\"Entrer l'entier B :\"))\n",
        "\n",
        "\n",
        "\n",
        "\n",
        "\n",
        "\n"
      ]
    },
    {
      "cell_type": "markdown",
      "metadata": {
        "id": "9ONvoMU4fh3l"
      },
      "source": [
        "#### **Exercice:13**   Affichage d’un triangle isocèle\n",
        "\n",
        "Programme Python qui affiche un triangle isocèle de hauteur h.\n",
        "\n",
        "\n",
        "\n",
        "\n",
        "\n"
      ]
    },
    {
      "cell_type": "markdown",
      "metadata": {
        "id": "dyUkN2wufh3n"
      },
      "source": [
        "#### **Exercice 14**:  Affichage d’un rectangle plein d’étoiles\n",
        "Programme Python qui affiche un rectangle plein d’étoiles.\n",
        "Exemple d’exécution:\n",
        "\n",
        "*****Affichage d’un rectangle (17,9) creux d’étoiles *****\n",
        "\n",
        "```\n",
        "*****************\n",
        "*****************\n",
        "*****************\n",
        "*****************\n",
        "*****************\n",
        "*****************\n",
        "*****************\n",
        "*****************\n",
        "*****************\n",
        "```\n"
      ]
    }
  ],
  "metadata": {
    "colab": {
      "collapsed_sections": [
        "bZBppJJUlALG",
        "khpvW9fhuG4X",
        "xtzLPvjtCNF8",
        "wgRNQG8CCghO",
        "9yf51I-JCgin",
        "v1AinhSTyF08",
        "Zw00OSIsBlww",
        "h4mj9ImdHBlW",
        "kywYz0qc-K5H",
        "_eFqKMNyCNGy",
        "93CK9SRCCNHp",
        "Tq6Rmk9TR5ns",
        "j2AOZgQOCNIv",
        "SFwxzhZkCNIa",
        "c7ZL_ADNCNJU",
        "WFM-dfdJCNJp",
        "mPjnRCz16Kl_",
        "sMfpRMGfe4aK",
        "h82jKmmNHUMX",
        "iOipMJ3Bgi18",
        "uO9kBiw2iyuZ",
        "piGiOA6wd4Cc",
        "XvboUQBkktTI"
      ],
      "provenance": []
    },
    "kernelspec": {
      "display_name": "Python 3 (ipykernel)",
      "language": "python",
      "name": "python3"
    },
    "language_info": {
      "codemirror_mode": {
        "name": "ipython",
        "version": 3
      },
      "file_extension": ".py",
      "mimetype": "text/x-python",
      "name": "python",
      "nbconvert_exporter": "python",
      "pygments_lexer": "ipython3",
      "version": "3.10.4"
    }
  },
  "nbformat": 4,
  "nbformat_minor": 0
}